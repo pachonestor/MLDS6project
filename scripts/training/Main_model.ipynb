{
  "cells": [
    {
      "cell_type": "markdown",
      "metadata": {
        "id": "Vj5MmU_2qo8D"
      },
      "source": [
        "## Datos para la predicción de género en películas"
      ]
    },
    {
      "cell_type": "markdown",
      "metadata": {
        "id": "E34ZAfszqo8E"
      },
      "source": [
        "![image info](https://raw.githubusercontent.com/albahnsen/MIAD_ML_and_NLP/main/images/moviegenre.png)"
      ]
    },
    {
      "cell_type": "markdown",
      "metadata": {
        "id": "XxGxaf-kqo8E"
      },
      "source": [
        "En este proyecto se usará un conjunto de datos de géneros de películas. Cada observación contiene el título de una película, su año de lanzamiento, la sinopsis o plot de la película (resumen de la trama) y los géneros a los que pertenece (una película puede pertenercer a más de un género). Por ejemplo:\n",
        "- Título: 'How to Be a Serial Killer'\n",
        "- Plot: 'A serial killer decides to teach the secrets of his satisfying career to a video store clerk.'\n",
        "- Generos: 'Comedy', 'Crime', 'Horror'\n",
        "\n",
        "La idea es que usen estos datos para predecir la probabilidad de que una película pertenezca, dada la sinopsis, a cada uno de los géneros."
      ]
    },
    {
      "cell_type": "markdown",
      "metadata": {
        "id": "qxlI2dAdqo8F"
      },
      "source": [
        "Agradecemos al profesor Fabio González, Ph.D. y a su alumno John Arevalo por proporcionar este conjunto de datos. Ver https://arxiv.org/abs/1702.01992"
      ]
    },
    {
      "cell_type": "code",
      "source": [
        "!pip install unidecode\n",
        "!pip install nltk"
      ],
      "metadata": {
        "colab": {
          "base_uri": "https://localhost:8080/"
        },
        "id": "w7Jy_LxLWYw2",
        "outputId": "f6c08c4c-f78a-418a-ee3a-32bf50d9baf9"
      },
      "execution_count": 1,
      "outputs": [
        {
          "output_type": "stream",
          "name": "stdout",
          "text": [
            "Looking in indexes: https://pypi.org/simple, https://us-python.pkg.dev/colab-wheels/public/simple/\n",
            "Collecting unidecode\n",
            "  Downloading Unidecode-1.3.6-py3-none-any.whl (235 kB)\n",
            "\u001b[2K     \u001b[90m━━━━━━━━━━━━━━━━━━━━━━━━━━━━━━━━━━━━━━━\u001b[0m \u001b[32m235.9/235.9 kB\u001b[0m \u001b[31m8.1 MB/s\u001b[0m eta \u001b[36m0:00:00\u001b[0m\n",
            "\u001b[?25hInstalling collected packages: unidecode\n",
            "Successfully installed unidecode-1.3.6\n",
            "Looking in indexes: https://pypi.org/simple, https://us-python.pkg.dev/colab-wheels/public/simple/\n",
            "Requirement already satisfied: nltk in /usr/local/lib/python3.10/dist-packages (3.8.1)\n",
            "Requirement already satisfied: click in /usr/local/lib/python3.10/dist-packages (from nltk) (8.1.3)\n",
            "Requirement already satisfied: joblib in /usr/local/lib/python3.10/dist-packages (from nltk) (1.2.0)\n",
            "Requirement already satisfied: regex>=2021.8.3 in /usr/local/lib/python3.10/dist-packages (from nltk) (2022.10.31)\n",
            "Requirement already satisfied: tqdm in /usr/local/lib/python3.10/dist-packages (from nltk) (4.65.0)\n"
          ]
        }
      ]
    },
    {
      "cell_type": "code",
      "execution_count": 2,
      "metadata": {
        "id": "vXC99ayWqo8H",
        "colab": {
          "base_uri": "https://localhost:8080/"
        },
        "outputId": "2cdc3f67-b591-4c78-eead-e0f8e5fba6ae"
      },
      "outputs": [
        {
          "output_type": "stream",
          "name": "stdout",
          "text": [
            "\u001b[38;5;2m✔ Download and installation successful\u001b[0m\n",
            "You can now load the package via spacy.load('en_core_web_sm')\n"
          ]
        }
      ],
      "source": [
        "# Importación librerías\n",
        "import pandas as pd\n",
        "import numpy as np\n",
        "import re\n",
        "from unidecode import unidecode\n",
        "import spacy\n",
        "import nltk\n",
        "from nltk.stem.snowball import SnowballStemmer\n",
        "snow_stemmer = SnowballStemmer('english')\n",
        "from sklearn.feature_extraction.text import TfidfVectorizer\n",
        "import seaborn as sns\n",
        "from sklearn.metrics import r2_score, roc_auc_score\n",
        "from sklearn.model_selection import train_test_split\n",
        "from sklearn.metrics import classification_report\n",
        "import matplotlib.pyplot as plt\n",
        "plt.rcParams['figure.figsize'] = [10, 10]\n",
        "plt.style.use(\"ggplot\")\n",
        "spacy.cli.download(\"en_core_web_sm\")\n",
        "nlp = spacy.load(\"en_core_web_sm\")"
      ]
    },
    {
      "cell_type": "markdown",
      "source": [
        "# Carga de la base de datos"
      ],
      "metadata": {
        "id": "ZWhhod4faH9g"
      }
    },
    {
      "cell_type": "code",
      "execution_count": 3,
      "metadata": {
        "id": "jtXNDOeWqo8I"
      },
      "outputs": [],
      "source": [
        "dt= pd.read_csv('https://github.com/albahnsen/MIAD_ML_and_NLP/raw/main/datasets/dataTraining.zip', encoding='UTF-8', index_col=0).reset_index().drop(\"index\",axis=1)"
      ]
    },
    {
      "cell_type": "markdown",
      "source": [
        "# Visualización de la base de datos"
      ],
      "metadata": {
        "id": "w39lMoWIaT3i"
      }
    },
    {
      "cell_type": "code",
      "execution_count": 4,
      "metadata": {
        "colab": {
          "base_uri": "https://localhost:8080/",
          "height": 207
        },
        "id": "gTJUaSGKqo8J",
        "outputId": "15a3e942-8ffa-4c25-d9f3-b2f4b00a8f18"
      },
      "outputs": [
        {
          "output_type": "execute_result",
          "data": {
            "text/plain": [
              "   year                      title  \\\n",
              "0  2003                       Most   \n",
              "1  2008  How to Be a Serial Killer   \n",
              "2  1941             A Woman's Face   \n",
              "3  1954            Executive Suite   \n",
              "4  1990              Narrow Margin   \n",
              "\n",
              "                                                plot  \\\n",
              "0  most is the story of a single father who takes...   \n",
              "1  a serial killer decides to teach the secrets o...   \n",
              "2  in sweden ,  a female blackmailer with a disfi...   \n",
              "3  in a friday afternoon in new york ,  the presi...   \n",
              "4  in los angeles ,  the editor of a publishing h...   \n",
              "\n",
              "                               genres  rating  \n",
              "0                  ['Short', 'Drama']     8.0  \n",
              "1       ['Comedy', 'Crime', 'Horror']     5.6  \n",
              "2  ['Drama', 'Film-Noir', 'Thriller']     7.2  \n",
              "3                           ['Drama']     7.4  \n",
              "4     ['Action', 'Crime', 'Thriller']     6.6  "
            ],
            "text/html": [
              "\n",
              "  <div id=\"df-8d08e93c-061f-4855-a4a7-9525441b0d84\">\n",
              "    <div class=\"colab-df-container\">\n",
              "      <div>\n",
              "<style scoped>\n",
              "    .dataframe tbody tr th:only-of-type {\n",
              "        vertical-align: middle;\n",
              "    }\n",
              "\n",
              "    .dataframe tbody tr th {\n",
              "        vertical-align: top;\n",
              "    }\n",
              "\n",
              "    .dataframe thead th {\n",
              "        text-align: right;\n",
              "    }\n",
              "</style>\n",
              "<table border=\"1\" class=\"dataframe\">\n",
              "  <thead>\n",
              "    <tr style=\"text-align: right;\">\n",
              "      <th></th>\n",
              "      <th>year</th>\n",
              "      <th>title</th>\n",
              "      <th>plot</th>\n",
              "      <th>genres</th>\n",
              "      <th>rating</th>\n",
              "    </tr>\n",
              "  </thead>\n",
              "  <tbody>\n",
              "    <tr>\n",
              "      <th>0</th>\n",
              "      <td>2003</td>\n",
              "      <td>Most</td>\n",
              "      <td>most is the story of a single father who takes...</td>\n",
              "      <td>['Short', 'Drama']</td>\n",
              "      <td>8.0</td>\n",
              "    </tr>\n",
              "    <tr>\n",
              "      <th>1</th>\n",
              "      <td>2008</td>\n",
              "      <td>How to Be a Serial Killer</td>\n",
              "      <td>a serial killer decides to teach the secrets o...</td>\n",
              "      <td>['Comedy', 'Crime', 'Horror']</td>\n",
              "      <td>5.6</td>\n",
              "    </tr>\n",
              "    <tr>\n",
              "      <th>2</th>\n",
              "      <td>1941</td>\n",
              "      <td>A Woman's Face</td>\n",
              "      <td>in sweden ,  a female blackmailer with a disfi...</td>\n",
              "      <td>['Drama', 'Film-Noir', 'Thriller']</td>\n",
              "      <td>7.2</td>\n",
              "    </tr>\n",
              "    <tr>\n",
              "      <th>3</th>\n",
              "      <td>1954</td>\n",
              "      <td>Executive Suite</td>\n",
              "      <td>in a friday afternoon in new york ,  the presi...</td>\n",
              "      <td>['Drama']</td>\n",
              "      <td>7.4</td>\n",
              "    </tr>\n",
              "    <tr>\n",
              "      <th>4</th>\n",
              "      <td>1990</td>\n",
              "      <td>Narrow Margin</td>\n",
              "      <td>in los angeles ,  the editor of a publishing h...</td>\n",
              "      <td>['Action', 'Crime', 'Thriller']</td>\n",
              "      <td>6.6</td>\n",
              "    </tr>\n",
              "  </tbody>\n",
              "</table>\n",
              "</div>\n",
              "      <button class=\"colab-df-convert\" onclick=\"convertToInteractive('df-8d08e93c-061f-4855-a4a7-9525441b0d84')\"\n",
              "              title=\"Convert this dataframe to an interactive table.\"\n",
              "              style=\"display:none;\">\n",
              "        \n",
              "  <svg xmlns=\"http://www.w3.org/2000/svg\" height=\"24px\"viewBox=\"0 0 24 24\"\n",
              "       width=\"24px\">\n",
              "    <path d=\"M0 0h24v24H0V0z\" fill=\"none\"/>\n",
              "    <path d=\"M18.56 5.44l.94 2.06.94-2.06 2.06-.94-2.06-.94-.94-2.06-.94 2.06-2.06.94zm-11 1L8.5 8.5l.94-2.06 2.06-.94-2.06-.94L8.5 2.5l-.94 2.06-2.06.94zm10 10l.94 2.06.94-2.06 2.06-.94-2.06-.94-.94-2.06-.94 2.06-2.06.94z\"/><path d=\"M17.41 7.96l-1.37-1.37c-.4-.4-.92-.59-1.43-.59-.52 0-1.04.2-1.43.59L10.3 9.45l-7.72 7.72c-.78.78-.78 2.05 0 2.83L4 21.41c.39.39.9.59 1.41.59.51 0 1.02-.2 1.41-.59l7.78-7.78 2.81-2.81c.8-.78.8-2.07 0-2.86zM5.41 20L4 18.59l7.72-7.72 1.47 1.35L5.41 20z\"/>\n",
              "  </svg>\n",
              "      </button>\n",
              "      \n",
              "  <style>\n",
              "    .colab-df-container {\n",
              "      display:flex;\n",
              "      flex-wrap:wrap;\n",
              "      gap: 12px;\n",
              "    }\n",
              "\n",
              "    .colab-df-convert {\n",
              "      background-color: #E8F0FE;\n",
              "      border: none;\n",
              "      border-radius: 50%;\n",
              "      cursor: pointer;\n",
              "      display: none;\n",
              "      fill: #1967D2;\n",
              "      height: 32px;\n",
              "      padding: 0 0 0 0;\n",
              "      width: 32px;\n",
              "    }\n",
              "\n",
              "    .colab-df-convert:hover {\n",
              "      background-color: #E2EBFA;\n",
              "      box-shadow: 0px 1px 2px rgba(60, 64, 67, 0.3), 0px 1px 3px 1px rgba(60, 64, 67, 0.15);\n",
              "      fill: #174EA6;\n",
              "    }\n",
              "\n",
              "    [theme=dark] .colab-df-convert {\n",
              "      background-color: #3B4455;\n",
              "      fill: #D2E3FC;\n",
              "    }\n",
              "\n",
              "    [theme=dark] .colab-df-convert:hover {\n",
              "      background-color: #434B5C;\n",
              "      box-shadow: 0px 1px 3px 1px rgba(0, 0, 0, 0.15);\n",
              "      filter: drop-shadow(0px 1px 2px rgba(0, 0, 0, 0.3));\n",
              "      fill: #FFFFFF;\n",
              "    }\n",
              "  </style>\n",
              "\n",
              "      <script>\n",
              "        const buttonEl =\n",
              "          document.querySelector('#df-8d08e93c-061f-4855-a4a7-9525441b0d84 button.colab-df-convert');\n",
              "        buttonEl.style.display =\n",
              "          google.colab.kernel.accessAllowed ? 'block' : 'none';\n",
              "\n",
              "        async function convertToInteractive(key) {\n",
              "          const element = document.querySelector('#df-8d08e93c-061f-4855-a4a7-9525441b0d84');\n",
              "          const dataTable =\n",
              "            await google.colab.kernel.invokeFunction('convertToInteractive',\n",
              "                                                     [key], {});\n",
              "          if (!dataTable) return;\n",
              "\n",
              "          const docLinkHtml = 'Like what you see? Visit the ' +\n",
              "            '<a target=\"_blank\" href=https://colab.research.google.com/notebooks/data_table.ipynb>data table notebook</a>'\n",
              "            + ' to learn more about interactive tables.';\n",
              "          element.innerHTML = '';\n",
              "          dataTable['output_type'] = 'display_data';\n",
              "          await google.colab.output.renderOutput(dataTable, element);\n",
              "          const docLink = document.createElement('div');\n",
              "          docLink.innerHTML = docLinkHtml;\n",
              "          element.appendChild(docLink);\n",
              "        }\n",
              "      </script>\n",
              "    </div>\n",
              "  </div>\n",
              "  "
            ]
          },
          "metadata": {},
          "execution_count": 4
        }
      ],
      "source": [
        "dt.head()"
      ]
    },
    {
      "cell_type": "markdown",
      "source": [
        "## Tamaño de la  base de datos"
      ],
      "metadata": {
        "id": "vsEfgWY8aASO"
      }
    },
    {
      "cell_type": "code",
      "source": [
        "dt.shape"
      ],
      "metadata": {
        "colab": {
          "base_uri": "https://localhost:8080/"
        },
        "id": "V1sq5fyxIN9M",
        "outputId": "54a5612c-200f-4670-e5be-ecb7bf82eb96"
      },
      "execution_count": 5,
      "outputs": [
        {
          "output_type": "execute_result",
          "data": {
            "text/plain": [
              "(7895, 5)"
            ]
          },
          "metadata": {},
          "execution_count": 5
        }
      ]
    },
    {
      "cell_type": "markdown",
      "source": [
        "Se descartan las variables que no aportan al proyecto"
      ],
      "metadata": {
        "id": "huGwUD1yadIY"
      }
    },
    {
      "cell_type": "code",
      "source": [
        "dt=dt[[\"plot\",\"genres\"]]\n",
        "dt.head()"
      ],
      "metadata": {
        "colab": {
          "base_uri": "https://localhost:8080/",
          "height": 207
        },
        "id": "1CNE3EJvVPhQ",
        "outputId": "d330146b-c5ed-48c1-b41a-4791954cb0f7"
      },
      "execution_count": 6,
      "outputs": [
        {
          "output_type": "execute_result",
          "data": {
            "text/plain": [
              "                                                plot  \\\n",
              "0  most is the story of a single father who takes...   \n",
              "1  a serial killer decides to teach the secrets o...   \n",
              "2  in sweden ,  a female blackmailer with a disfi...   \n",
              "3  in a friday afternoon in new york ,  the presi...   \n",
              "4  in los angeles ,  the editor of a publishing h...   \n",
              "\n",
              "                               genres  \n",
              "0                  ['Short', 'Drama']  \n",
              "1       ['Comedy', 'Crime', 'Horror']  \n",
              "2  ['Drama', 'Film-Noir', 'Thriller']  \n",
              "3                           ['Drama']  \n",
              "4     ['Action', 'Crime', 'Thriller']  "
            ],
            "text/html": [
              "\n",
              "  <div id=\"df-aa83ef12-867c-447d-a24c-704bbdf73172\">\n",
              "    <div class=\"colab-df-container\">\n",
              "      <div>\n",
              "<style scoped>\n",
              "    .dataframe tbody tr th:only-of-type {\n",
              "        vertical-align: middle;\n",
              "    }\n",
              "\n",
              "    .dataframe tbody tr th {\n",
              "        vertical-align: top;\n",
              "    }\n",
              "\n",
              "    .dataframe thead th {\n",
              "        text-align: right;\n",
              "    }\n",
              "</style>\n",
              "<table border=\"1\" class=\"dataframe\">\n",
              "  <thead>\n",
              "    <tr style=\"text-align: right;\">\n",
              "      <th></th>\n",
              "      <th>plot</th>\n",
              "      <th>genres</th>\n",
              "    </tr>\n",
              "  </thead>\n",
              "  <tbody>\n",
              "    <tr>\n",
              "      <th>0</th>\n",
              "      <td>most is the story of a single father who takes...</td>\n",
              "      <td>['Short', 'Drama']</td>\n",
              "    </tr>\n",
              "    <tr>\n",
              "      <th>1</th>\n",
              "      <td>a serial killer decides to teach the secrets o...</td>\n",
              "      <td>['Comedy', 'Crime', 'Horror']</td>\n",
              "    </tr>\n",
              "    <tr>\n",
              "      <th>2</th>\n",
              "      <td>in sweden ,  a female blackmailer with a disfi...</td>\n",
              "      <td>['Drama', 'Film-Noir', 'Thriller']</td>\n",
              "    </tr>\n",
              "    <tr>\n",
              "      <th>3</th>\n",
              "      <td>in a friday afternoon in new york ,  the presi...</td>\n",
              "      <td>['Drama']</td>\n",
              "    </tr>\n",
              "    <tr>\n",
              "      <th>4</th>\n",
              "      <td>in los angeles ,  the editor of a publishing h...</td>\n",
              "      <td>['Action', 'Crime', 'Thriller']</td>\n",
              "    </tr>\n",
              "  </tbody>\n",
              "</table>\n",
              "</div>\n",
              "      <button class=\"colab-df-convert\" onclick=\"convertToInteractive('df-aa83ef12-867c-447d-a24c-704bbdf73172')\"\n",
              "              title=\"Convert this dataframe to an interactive table.\"\n",
              "              style=\"display:none;\">\n",
              "        \n",
              "  <svg xmlns=\"http://www.w3.org/2000/svg\" height=\"24px\"viewBox=\"0 0 24 24\"\n",
              "       width=\"24px\">\n",
              "    <path d=\"M0 0h24v24H0V0z\" fill=\"none\"/>\n",
              "    <path d=\"M18.56 5.44l.94 2.06.94-2.06 2.06-.94-2.06-.94-.94-2.06-.94 2.06-2.06.94zm-11 1L8.5 8.5l.94-2.06 2.06-.94-2.06-.94L8.5 2.5l-.94 2.06-2.06.94zm10 10l.94 2.06.94-2.06 2.06-.94-2.06-.94-.94-2.06-.94 2.06-2.06.94z\"/><path d=\"M17.41 7.96l-1.37-1.37c-.4-.4-.92-.59-1.43-.59-.52 0-1.04.2-1.43.59L10.3 9.45l-7.72 7.72c-.78.78-.78 2.05 0 2.83L4 21.41c.39.39.9.59 1.41.59.51 0 1.02-.2 1.41-.59l7.78-7.78 2.81-2.81c.8-.78.8-2.07 0-2.86zM5.41 20L4 18.59l7.72-7.72 1.47 1.35L5.41 20z\"/>\n",
              "  </svg>\n",
              "      </button>\n",
              "      \n",
              "  <style>\n",
              "    .colab-df-container {\n",
              "      display:flex;\n",
              "      flex-wrap:wrap;\n",
              "      gap: 12px;\n",
              "    }\n",
              "\n",
              "    .colab-df-convert {\n",
              "      background-color: #E8F0FE;\n",
              "      border: none;\n",
              "      border-radius: 50%;\n",
              "      cursor: pointer;\n",
              "      display: none;\n",
              "      fill: #1967D2;\n",
              "      height: 32px;\n",
              "      padding: 0 0 0 0;\n",
              "      width: 32px;\n",
              "    }\n",
              "\n",
              "    .colab-df-convert:hover {\n",
              "      background-color: #E2EBFA;\n",
              "      box-shadow: 0px 1px 2px rgba(60, 64, 67, 0.3), 0px 1px 3px 1px rgba(60, 64, 67, 0.15);\n",
              "      fill: #174EA6;\n",
              "    }\n",
              "\n",
              "    [theme=dark] .colab-df-convert {\n",
              "      background-color: #3B4455;\n",
              "      fill: #D2E3FC;\n",
              "    }\n",
              "\n",
              "    [theme=dark] .colab-df-convert:hover {\n",
              "      background-color: #434B5C;\n",
              "      box-shadow: 0px 1px 3px 1px rgba(0, 0, 0, 0.15);\n",
              "      filter: drop-shadow(0px 1px 2px rgba(0, 0, 0, 0.3));\n",
              "      fill: #FFFFFF;\n",
              "    }\n",
              "  </style>\n",
              "\n",
              "      <script>\n",
              "        const buttonEl =\n",
              "          document.querySelector('#df-aa83ef12-867c-447d-a24c-704bbdf73172 button.colab-df-convert');\n",
              "        buttonEl.style.display =\n",
              "          google.colab.kernel.accessAllowed ? 'block' : 'none';\n",
              "\n",
              "        async function convertToInteractive(key) {\n",
              "          const element = document.querySelector('#df-aa83ef12-867c-447d-a24c-704bbdf73172');\n",
              "          const dataTable =\n",
              "            await google.colab.kernel.invokeFunction('convertToInteractive',\n",
              "                                                     [key], {});\n",
              "          if (!dataTable) return;\n",
              "\n",
              "          const docLinkHtml = 'Like what you see? Visit the ' +\n",
              "            '<a target=\"_blank\" href=https://colab.research.google.com/notebooks/data_table.ipynb>data table notebook</a>'\n",
              "            + ' to learn more about interactive tables.';\n",
              "          element.innerHTML = '';\n",
              "          dataTable['output_type'] = 'display_data';\n",
              "          await google.colab.output.renderOutput(dataTable, element);\n",
              "          const docLink = document.createElement('div');\n",
              "          docLink.innerHTML = docLinkHtml;\n",
              "          element.appendChild(docLink);\n",
              "        }\n",
              "      </script>\n",
              "    </div>\n",
              "  </div>\n",
              "  "
            ]
          },
          "metadata": {},
          "execution_count": 6
        }
      ]
    },
    {
      "cell_type": "markdown",
      "source": [
        "# Tipos de variables"
      ],
      "metadata": {
        "id": "uPYGLRTtau0X"
      }
    },
    {
      "cell_type": "code",
      "source": [
        "dt.dtypes"
      ],
      "metadata": {
        "colab": {
          "base_uri": "https://localhost:8080/"
        },
        "id": "R0fFtP8vVQwe",
        "outputId": "57e7b4d6-1c24-49a0-8eb4-597c956b14df"
      },
      "execution_count": 7,
      "outputs": [
        {
          "output_type": "execute_result",
          "data": {
            "text/plain": [
              "plot      object\n",
              "genres    object\n",
              "dtype: object"
            ]
          },
          "metadata": {},
          "execution_count": 7
        }
      ]
    },
    {
      "cell_type": "markdown",
      "source": [
        "# Peso de la base de datos"
      ],
      "metadata": {
        "id": "aRiaWjgga1GI"
      }
    },
    {
      "cell_type": "code",
      "source": [
        "import sys\n",
        "print(\"La base de datos tiene un peso de \",sys.getsizeof(dt),\" bytes\")"
      ],
      "metadata": {
        "colab": {
          "base_uri": "https://localhost:8080/"
        },
        "id": "pFDpTk4sVqPj",
        "outputId": "a91c52b8-61f3-4e44-c05e-aa22d4b2adb4"
      },
      "execution_count": 8,
      "outputs": [
        {
          "output_type": "stream",
          "name": "stdout",
          "text": [
            "La base de datos tiene un peso de  7045029  bytes\n"
          ]
        }
      ]
    },
    {
      "cell_type": "markdown",
      "source": [
        "# Cantidad de filas vacias en la base de datos"
      ],
      "metadata": {
        "id": "-KKcJIT1a-vu"
      }
    },
    {
      "cell_type": "code",
      "source": [
        "dt.isnull().sum()"
      ],
      "metadata": {
        "colab": {
          "base_uri": "https://localhost:8080/"
        },
        "id": "uDJGNcvsWNvO",
        "outputId": "0824e2fd-04fa-4fd0-b6ee-1e625cb07fe9"
      },
      "execution_count": 9,
      "outputs": [
        {
          "output_type": "execute_result",
          "data": {
            "text/plain": [
              "plot      0\n",
              "genres    0\n",
              "dtype: int64"
            ]
          },
          "metadata": {},
          "execution_count": 9
        }
      ]
    },
    {
      "cell_type": "markdown",
      "source": [
        "## Preprocesamiento"
      ],
      "metadata": {
        "id": "I08vx3iRyAbU"
      }
    },
    {
      "cell_type": "code",
      "source": [
        "def preprocess(text,min_len=2, max_len=23):\n",
        "    pat = re.compile(r\"[^a-z ]\")\n",
        "    spaces = re.compile(r\"\\s{2,}\")\n",
        "\n",
        "    # Normalizamos el texto\n",
        "    norm_text = unidecode(text)\n",
        "    doc = nlp(norm_text)\n",
        "\n",
        "    # Eliminamos stopwords\n",
        "    filtered_tokens = filter(lambda token: not token.is_stop, doc )\n",
        "\n",
        "    # Filtramos palabras por longitud\n",
        "    filtered_tokens2 = filter(lambda token: len(token) >= min_len\n",
        "                              and len(token) <= max_len, filtered_tokens)\n",
        "\n",
        "    # Obtenemos los lemmas de cada token\n",
        "    lemmas = map(lambda token: token.lemma_, filtered_tokens2 )\n",
        "    stem = map( lambda token: snow_stemmer.stem(token), lemmas )\n",
        "    lemma_text = \" \".join(stem)\n",
        "\n",
        "    # Quitamos grafía\n",
        "    lower_text = lemma_text.lower()\n",
        "\n",
        "    # Eliminamos caracteres especiales\n",
        "    clean_text = re.sub(pat, \"\", lower_text)\n",
        "\n",
        "    # Eliminamos espacios duplicados\n",
        "    spaces_text = re.sub(spaces, \" \", clean_text)\n",
        "    return spaces_text.strip()\n",
        "prepo_text=list(nlp.pipe(dt[\"plot\"].apply(preprocess).tolist(), n_process=-1))"
      ],
      "metadata": {
        "id": "xxLgdVcNyFgZ"
      },
      "execution_count": 10,
      "outputs": []
    },
    {
      "cell_type": "code",
      "source": [
        "dt['preprocessed_plot'] = [doc.text for doc in prepo_text]"
      ],
      "metadata": {
        "id": "G9jPUDpyySxM"
      },
      "execution_count": 11,
      "outputs": []
    },
    {
      "cell_type": "markdown",
      "source": [
        "#  Preprocesamiento Variable objetivo"
      ],
      "metadata": {
        "id": "Mz5ZOWwApFuj"
      }
    },
    {
      "cell_type": "code",
      "source": [
        "dt[\"genres\"] = dt[\"genres\"].apply(lambda x: x.replace('[','').replace(']','').replace(\"\\'\",''))\n",
        "dt.head()"
      ],
      "metadata": {
        "colab": {
          "base_uri": "https://localhost:8080/",
          "height": 207
        },
        "id": "2td8-dvppJGq",
        "outputId": "dad2169e-3c2d-4dcb-b575-5e49a357316e"
      },
      "execution_count": 12,
      "outputs": [
        {
          "output_type": "execute_result",
          "data": {
            "text/plain": [
              "                                                plot  \\\n",
              "0  most is the story of a single father who takes...   \n",
              "1  a serial killer decides to teach the secrets o...   \n",
              "2  in sweden ,  a female blackmailer with a disfi...   \n",
              "3  in a friday afternoon in new york ,  the presi...   \n",
              "4  in los angeles ,  the editor of a publishing h...   \n",
              "\n",
              "                       genres  \\\n",
              "0                Short, Drama   \n",
              "1       Comedy, Crime, Horror   \n",
              "2  Drama, Film-Noir, Thriller   \n",
              "3                       Drama   \n",
              "4     Action, Crime, Thriller   \n",
              "\n",
              "                                   preprocessed_plot  \n",
              "0  stori singl father take year old son work rail...  \n",
              "1  serial killer decid teach secret satisfi caree...  \n",
              "2  sweden femal blackmail disfigur facial scar me...  \n",
              "3  friday afternoon new york presid tredway corpo...  \n",
              "4  los angel editor publish hous carol hunnicut g...  "
            ],
            "text/html": [
              "\n",
              "  <div id=\"df-9d28bfa7-a772-45ed-9cd1-bce69dd53f47\">\n",
              "    <div class=\"colab-df-container\">\n",
              "      <div>\n",
              "<style scoped>\n",
              "    .dataframe tbody tr th:only-of-type {\n",
              "        vertical-align: middle;\n",
              "    }\n",
              "\n",
              "    .dataframe tbody tr th {\n",
              "        vertical-align: top;\n",
              "    }\n",
              "\n",
              "    .dataframe thead th {\n",
              "        text-align: right;\n",
              "    }\n",
              "</style>\n",
              "<table border=\"1\" class=\"dataframe\">\n",
              "  <thead>\n",
              "    <tr style=\"text-align: right;\">\n",
              "      <th></th>\n",
              "      <th>plot</th>\n",
              "      <th>genres</th>\n",
              "      <th>preprocessed_plot</th>\n",
              "    </tr>\n",
              "  </thead>\n",
              "  <tbody>\n",
              "    <tr>\n",
              "      <th>0</th>\n",
              "      <td>most is the story of a single father who takes...</td>\n",
              "      <td>Short, Drama</td>\n",
              "      <td>stori singl father take year old son work rail...</td>\n",
              "    </tr>\n",
              "    <tr>\n",
              "      <th>1</th>\n",
              "      <td>a serial killer decides to teach the secrets o...</td>\n",
              "      <td>Comedy, Crime, Horror</td>\n",
              "      <td>serial killer decid teach secret satisfi caree...</td>\n",
              "    </tr>\n",
              "    <tr>\n",
              "      <th>2</th>\n",
              "      <td>in sweden ,  a female blackmailer with a disfi...</td>\n",
              "      <td>Drama, Film-Noir, Thriller</td>\n",
              "      <td>sweden femal blackmail disfigur facial scar me...</td>\n",
              "    </tr>\n",
              "    <tr>\n",
              "      <th>3</th>\n",
              "      <td>in a friday afternoon in new york ,  the presi...</td>\n",
              "      <td>Drama</td>\n",
              "      <td>friday afternoon new york presid tredway corpo...</td>\n",
              "    </tr>\n",
              "    <tr>\n",
              "      <th>4</th>\n",
              "      <td>in los angeles ,  the editor of a publishing h...</td>\n",
              "      <td>Action, Crime, Thriller</td>\n",
              "      <td>los angel editor publish hous carol hunnicut g...</td>\n",
              "    </tr>\n",
              "  </tbody>\n",
              "</table>\n",
              "</div>\n",
              "      <button class=\"colab-df-convert\" onclick=\"convertToInteractive('df-9d28bfa7-a772-45ed-9cd1-bce69dd53f47')\"\n",
              "              title=\"Convert this dataframe to an interactive table.\"\n",
              "              style=\"display:none;\">\n",
              "        \n",
              "  <svg xmlns=\"http://www.w3.org/2000/svg\" height=\"24px\"viewBox=\"0 0 24 24\"\n",
              "       width=\"24px\">\n",
              "    <path d=\"M0 0h24v24H0V0z\" fill=\"none\"/>\n",
              "    <path d=\"M18.56 5.44l.94 2.06.94-2.06 2.06-.94-2.06-.94-.94-2.06-.94 2.06-2.06.94zm-11 1L8.5 8.5l.94-2.06 2.06-.94-2.06-.94L8.5 2.5l-.94 2.06-2.06.94zm10 10l.94 2.06.94-2.06 2.06-.94-2.06-.94-.94-2.06-.94 2.06-2.06.94z\"/><path d=\"M17.41 7.96l-1.37-1.37c-.4-.4-.92-.59-1.43-.59-.52 0-1.04.2-1.43.59L10.3 9.45l-7.72 7.72c-.78.78-.78 2.05 0 2.83L4 21.41c.39.39.9.59 1.41.59.51 0 1.02-.2 1.41-.59l7.78-7.78 2.81-2.81c.8-.78.8-2.07 0-2.86zM5.41 20L4 18.59l7.72-7.72 1.47 1.35L5.41 20z\"/>\n",
              "  </svg>\n",
              "      </button>\n",
              "      \n",
              "  <style>\n",
              "    .colab-df-container {\n",
              "      display:flex;\n",
              "      flex-wrap:wrap;\n",
              "      gap: 12px;\n",
              "    }\n",
              "\n",
              "    .colab-df-convert {\n",
              "      background-color: #E8F0FE;\n",
              "      border: none;\n",
              "      border-radius: 50%;\n",
              "      cursor: pointer;\n",
              "      display: none;\n",
              "      fill: #1967D2;\n",
              "      height: 32px;\n",
              "      padding: 0 0 0 0;\n",
              "      width: 32px;\n",
              "    }\n",
              "\n",
              "    .colab-df-convert:hover {\n",
              "      background-color: #E2EBFA;\n",
              "      box-shadow: 0px 1px 2px rgba(60, 64, 67, 0.3), 0px 1px 3px 1px rgba(60, 64, 67, 0.15);\n",
              "      fill: #174EA6;\n",
              "    }\n",
              "\n",
              "    [theme=dark] .colab-df-convert {\n",
              "      background-color: #3B4455;\n",
              "      fill: #D2E3FC;\n",
              "    }\n",
              "\n",
              "    [theme=dark] .colab-df-convert:hover {\n",
              "      background-color: #434B5C;\n",
              "      box-shadow: 0px 1px 3px 1px rgba(0, 0, 0, 0.15);\n",
              "      filter: drop-shadow(0px 1px 2px rgba(0, 0, 0, 0.3));\n",
              "      fill: #FFFFFF;\n",
              "    }\n",
              "  </style>\n",
              "\n",
              "      <script>\n",
              "        const buttonEl =\n",
              "          document.querySelector('#df-9d28bfa7-a772-45ed-9cd1-bce69dd53f47 button.colab-df-convert');\n",
              "        buttonEl.style.display =\n",
              "          google.colab.kernel.accessAllowed ? 'block' : 'none';\n",
              "\n",
              "        async function convertToInteractive(key) {\n",
              "          const element = document.querySelector('#df-9d28bfa7-a772-45ed-9cd1-bce69dd53f47');\n",
              "          const dataTable =\n",
              "            await google.colab.kernel.invokeFunction('convertToInteractive',\n",
              "                                                     [key], {});\n",
              "          if (!dataTable) return;\n",
              "\n",
              "          const docLinkHtml = 'Like what you see? Visit the ' +\n",
              "            '<a target=\"_blank\" href=https://colab.research.google.com/notebooks/data_table.ipynb>data table notebook</a>'\n",
              "            + ' to learn more about interactive tables.';\n",
              "          element.innerHTML = '';\n",
              "          dataTable['output_type'] = 'display_data';\n",
              "          await google.colab.output.renderOutput(dataTable, element);\n",
              "          const docLink = document.createElement('div');\n",
              "          docLink.innerHTML = docLinkHtml;\n",
              "          element.appendChild(docLink);\n",
              "        }\n",
              "      </script>\n",
              "    </div>\n",
              "  </div>\n",
              "  "
            ]
          },
          "metadata": {},
          "execution_count": 12
        }
      ]
    },
    {
      "cell_type": "code",
      "source": [
        "genres_df = dt['genres'].str.get_dummies(sep=', ')\n",
        "data = dt.drop(['genres','preprocessed_plot'], axis=1)\n",
        "data = pd.concat([dt, genres_df], axis=1)\n",
        "data.head()"
      ],
      "metadata": {
        "colab": {
          "base_uri": "https://localhost:8080/",
          "height": 384
        },
        "id": "9rda2bi0pVVs",
        "outputId": "5dad0c61-49a2-47df-b048-f2c6566112aa"
      },
      "execution_count": 13,
      "outputs": [
        {
          "output_type": "execute_result",
          "data": {
            "text/plain": [
              "                                                plot  \\\n",
              "0  most is the story of a single father who takes...   \n",
              "1  a serial killer decides to teach the secrets o...   \n",
              "2  in sweden ,  a female blackmailer with a disfi...   \n",
              "3  in a friday afternoon in new york ,  the presi...   \n",
              "4  in los angeles ,  the editor of a publishing h...   \n",
              "\n",
              "                       genres  \\\n",
              "0                Short, Drama   \n",
              "1       Comedy, Crime, Horror   \n",
              "2  Drama, Film-Noir, Thriller   \n",
              "3                       Drama   \n",
              "4     Action, Crime, Thriller   \n",
              "\n",
              "                                   preprocessed_plot  Action  Adventure  \\\n",
              "0  stori singl father take year old son work rail...       0          0   \n",
              "1  serial killer decid teach secret satisfi caree...       0          0   \n",
              "2  sweden femal blackmail disfigur facial scar me...       0          0   \n",
              "3  friday afternoon new york presid tredway corpo...       0          0   \n",
              "4  los angel editor publish hous carol hunnicut g...       1          0   \n",
              "\n",
              "   Animation  Biography  Comedy  Crime  Documentary  ...  Musical  Mystery  \\\n",
              "0          0          0       0      0            0  ...        0        0   \n",
              "1          0          0       1      1            0  ...        0        0   \n",
              "2          0          0       0      0            0  ...        0        0   \n",
              "3          0          0       0      0            0  ...        0        0   \n",
              "4          0          0       0      1            0  ...        0        0   \n",
              "\n",
              "   News  Romance  Sci-Fi  Short  Sport  Thriller  War  Western  \n",
              "0     0        0       0      1      0         0    0        0  \n",
              "1     0        0       0      0      0         0    0        0  \n",
              "2     0        0       0      0      0         1    0        0  \n",
              "3     0        0       0      0      0         0    0        0  \n",
              "4     0        0       0      0      0         1    0        0  \n",
              "\n",
              "[5 rows x 27 columns]"
            ],
            "text/html": [
              "\n",
              "  <div id=\"df-e694f52f-ebe9-4d7c-b0f1-a9502d75d3be\">\n",
              "    <div class=\"colab-df-container\">\n",
              "      <div>\n",
              "<style scoped>\n",
              "    .dataframe tbody tr th:only-of-type {\n",
              "        vertical-align: middle;\n",
              "    }\n",
              "\n",
              "    .dataframe tbody tr th {\n",
              "        vertical-align: top;\n",
              "    }\n",
              "\n",
              "    .dataframe thead th {\n",
              "        text-align: right;\n",
              "    }\n",
              "</style>\n",
              "<table border=\"1\" class=\"dataframe\">\n",
              "  <thead>\n",
              "    <tr style=\"text-align: right;\">\n",
              "      <th></th>\n",
              "      <th>plot</th>\n",
              "      <th>genres</th>\n",
              "      <th>preprocessed_plot</th>\n",
              "      <th>Action</th>\n",
              "      <th>Adventure</th>\n",
              "      <th>Animation</th>\n",
              "      <th>Biography</th>\n",
              "      <th>Comedy</th>\n",
              "      <th>Crime</th>\n",
              "      <th>Documentary</th>\n",
              "      <th>...</th>\n",
              "      <th>Musical</th>\n",
              "      <th>Mystery</th>\n",
              "      <th>News</th>\n",
              "      <th>Romance</th>\n",
              "      <th>Sci-Fi</th>\n",
              "      <th>Short</th>\n",
              "      <th>Sport</th>\n",
              "      <th>Thriller</th>\n",
              "      <th>War</th>\n",
              "      <th>Western</th>\n",
              "    </tr>\n",
              "  </thead>\n",
              "  <tbody>\n",
              "    <tr>\n",
              "      <th>0</th>\n",
              "      <td>most is the story of a single father who takes...</td>\n",
              "      <td>Short, Drama</td>\n",
              "      <td>stori singl father take year old son work rail...</td>\n",
              "      <td>0</td>\n",
              "      <td>0</td>\n",
              "      <td>0</td>\n",
              "      <td>0</td>\n",
              "      <td>0</td>\n",
              "      <td>0</td>\n",
              "      <td>0</td>\n",
              "      <td>...</td>\n",
              "      <td>0</td>\n",
              "      <td>0</td>\n",
              "      <td>0</td>\n",
              "      <td>0</td>\n",
              "      <td>0</td>\n",
              "      <td>1</td>\n",
              "      <td>0</td>\n",
              "      <td>0</td>\n",
              "      <td>0</td>\n",
              "      <td>0</td>\n",
              "    </tr>\n",
              "    <tr>\n",
              "      <th>1</th>\n",
              "      <td>a serial killer decides to teach the secrets o...</td>\n",
              "      <td>Comedy, Crime, Horror</td>\n",
              "      <td>serial killer decid teach secret satisfi caree...</td>\n",
              "      <td>0</td>\n",
              "      <td>0</td>\n",
              "      <td>0</td>\n",
              "      <td>0</td>\n",
              "      <td>1</td>\n",
              "      <td>1</td>\n",
              "      <td>0</td>\n",
              "      <td>...</td>\n",
              "      <td>0</td>\n",
              "      <td>0</td>\n",
              "      <td>0</td>\n",
              "      <td>0</td>\n",
              "      <td>0</td>\n",
              "      <td>0</td>\n",
              "      <td>0</td>\n",
              "      <td>0</td>\n",
              "      <td>0</td>\n",
              "      <td>0</td>\n",
              "    </tr>\n",
              "    <tr>\n",
              "      <th>2</th>\n",
              "      <td>in sweden ,  a female blackmailer with a disfi...</td>\n",
              "      <td>Drama, Film-Noir, Thriller</td>\n",
              "      <td>sweden femal blackmail disfigur facial scar me...</td>\n",
              "      <td>0</td>\n",
              "      <td>0</td>\n",
              "      <td>0</td>\n",
              "      <td>0</td>\n",
              "      <td>0</td>\n",
              "      <td>0</td>\n",
              "      <td>0</td>\n",
              "      <td>...</td>\n",
              "      <td>0</td>\n",
              "      <td>0</td>\n",
              "      <td>0</td>\n",
              "      <td>0</td>\n",
              "      <td>0</td>\n",
              "      <td>0</td>\n",
              "      <td>0</td>\n",
              "      <td>1</td>\n",
              "      <td>0</td>\n",
              "      <td>0</td>\n",
              "    </tr>\n",
              "    <tr>\n",
              "      <th>3</th>\n",
              "      <td>in a friday afternoon in new york ,  the presi...</td>\n",
              "      <td>Drama</td>\n",
              "      <td>friday afternoon new york presid tredway corpo...</td>\n",
              "      <td>0</td>\n",
              "      <td>0</td>\n",
              "      <td>0</td>\n",
              "      <td>0</td>\n",
              "      <td>0</td>\n",
              "      <td>0</td>\n",
              "      <td>0</td>\n",
              "      <td>...</td>\n",
              "      <td>0</td>\n",
              "      <td>0</td>\n",
              "      <td>0</td>\n",
              "      <td>0</td>\n",
              "      <td>0</td>\n",
              "      <td>0</td>\n",
              "      <td>0</td>\n",
              "      <td>0</td>\n",
              "      <td>0</td>\n",
              "      <td>0</td>\n",
              "    </tr>\n",
              "    <tr>\n",
              "      <th>4</th>\n",
              "      <td>in los angeles ,  the editor of a publishing h...</td>\n",
              "      <td>Action, Crime, Thriller</td>\n",
              "      <td>los angel editor publish hous carol hunnicut g...</td>\n",
              "      <td>1</td>\n",
              "      <td>0</td>\n",
              "      <td>0</td>\n",
              "      <td>0</td>\n",
              "      <td>0</td>\n",
              "      <td>1</td>\n",
              "      <td>0</td>\n",
              "      <td>...</td>\n",
              "      <td>0</td>\n",
              "      <td>0</td>\n",
              "      <td>0</td>\n",
              "      <td>0</td>\n",
              "      <td>0</td>\n",
              "      <td>0</td>\n",
              "      <td>0</td>\n",
              "      <td>1</td>\n",
              "      <td>0</td>\n",
              "      <td>0</td>\n",
              "    </tr>\n",
              "  </tbody>\n",
              "</table>\n",
              "<p>5 rows × 27 columns</p>\n",
              "</div>\n",
              "      <button class=\"colab-df-convert\" onclick=\"convertToInteractive('df-e694f52f-ebe9-4d7c-b0f1-a9502d75d3be')\"\n",
              "              title=\"Convert this dataframe to an interactive table.\"\n",
              "              style=\"display:none;\">\n",
              "        \n",
              "  <svg xmlns=\"http://www.w3.org/2000/svg\" height=\"24px\"viewBox=\"0 0 24 24\"\n",
              "       width=\"24px\">\n",
              "    <path d=\"M0 0h24v24H0V0z\" fill=\"none\"/>\n",
              "    <path d=\"M18.56 5.44l.94 2.06.94-2.06 2.06-.94-2.06-.94-.94-2.06-.94 2.06-2.06.94zm-11 1L8.5 8.5l.94-2.06 2.06-.94-2.06-.94L8.5 2.5l-.94 2.06-2.06.94zm10 10l.94 2.06.94-2.06 2.06-.94-2.06-.94-.94-2.06-.94 2.06-2.06.94z\"/><path d=\"M17.41 7.96l-1.37-1.37c-.4-.4-.92-.59-1.43-.59-.52 0-1.04.2-1.43.59L10.3 9.45l-7.72 7.72c-.78.78-.78 2.05 0 2.83L4 21.41c.39.39.9.59 1.41.59.51 0 1.02-.2 1.41-.59l7.78-7.78 2.81-2.81c.8-.78.8-2.07 0-2.86zM5.41 20L4 18.59l7.72-7.72 1.47 1.35L5.41 20z\"/>\n",
              "  </svg>\n",
              "      </button>\n",
              "      \n",
              "  <style>\n",
              "    .colab-df-container {\n",
              "      display:flex;\n",
              "      flex-wrap:wrap;\n",
              "      gap: 12px;\n",
              "    }\n",
              "\n",
              "    .colab-df-convert {\n",
              "      background-color: #E8F0FE;\n",
              "      border: none;\n",
              "      border-radius: 50%;\n",
              "      cursor: pointer;\n",
              "      display: none;\n",
              "      fill: #1967D2;\n",
              "      height: 32px;\n",
              "      padding: 0 0 0 0;\n",
              "      width: 32px;\n",
              "    }\n",
              "\n",
              "    .colab-df-convert:hover {\n",
              "      background-color: #E2EBFA;\n",
              "      box-shadow: 0px 1px 2px rgba(60, 64, 67, 0.3), 0px 1px 3px 1px rgba(60, 64, 67, 0.15);\n",
              "      fill: #174EA6;\n",
              "    }\n",
              "\n",
              "    [theme=dark] .colab-df-convert {\n",
              "      background-color: #3B4455;\n",
              "      fill: #D2E3FC;\n",
              "    }\n",
              "\n",
              "    [theme=dark] .colab-df-convert:hover {\n",
              "      background-color: #434B5C;\n",
              "      box-shadow: 0px 1px 3px 1px rgba(0, 0, 0, 0.15);\n",
              "      filter: drop-shadow(0px 1px 2px rgba(0, 0, 0, 0.3));\n",
              "      fill: #FFFFFF;\n",
              "    }\n",
              "  </style>\n",
              "\n",
              "      <script>\n",
              "        const buttonEl =\n",
              "          document.querySelector('#df-e694f52f-ebe9-4d7c-b0f1-a9502d75d3be button.colab-df-convert');\n",
              "        buttonEl.style.display =\n",
              "          google.colab.kernel.accessAllowed ? 'block' : 'none';\n",
              "\n",
              "        async function convertToInteractive(key) {\n",
              "          const element = document.querySelector('#df-e694f52f-ebe9-4d7c-b0f1-a9502d75d3be');\n",
              "          const dataTable =\n",
              "            await google.colab.kernel.invokeFunction('convertToInteractive',\n",
              "                                                     [key], {});\n",
              "          if (!dataTable) return;\n",
              "\n",
              "          const docLinkHtml = 'Like what you see? Visit the ' +\n",
              "            '<a target=\"_blank\" href=https://colab.research.google.com/notebooks/data_table.ipynb>data table notebook</a>'\n",
              "            + ' to learn more about interactive tables.';\n",
              "          element.innerHTML = '';\n",
              "          dataTable['output_type'] = 'display_data';\n",
              "          await google.colab.output.renderOutput(dataTable, element);\n",
              "          const docLink = document.createElement('div');\n",
              "          docLink.innerHTML = docLinkHtml;\n",
              "          element.appendChild(docLink);\n",
              "        }\n",
              "      </script>\n",
              "    </div>\n",
              "  </div>\n",
              "  "
            ]
          },
          "metadata": {},
          "execution_count": 13
        }
      ]
    },
    {
      "cell_type": "markdown",
      "source": [
        "# Embedding de la variable plot con limpieza de tokens"
      ],
      "metadata": {
        "id": "lyizRZEU6k4E"
      }
    },
    {
      "cell_type": "code",
      "source": [
        "vect = TfidfVectorizer(sublinear_tf=True, max_df=0.95, min_df=0.03).fit(dt.preprocessed_plot)\n",
        "display(vect)\n",
        "\n",
        "features = vect.transform(dt.preprocessed_plot).toarray()\n",
        "display(features.shape)\n"
      ],
      "metadata": {
        "colab": {
          "base_uri": "https://localhost:8080/",
          "height": 93
        },
        "id": "XY5Cqp16wCkW",
        "outputId": "5a0b4978-2ff3-445c-bea3-2e79148608ee"
      },
      "execution_count": 14,
      "outputs": [
        {
          "output_type": "display_data",
          "data": {
            "text/plain": [
              "TfidfVectorizer(max_df=0.95, min_df=0.03, sublinear_tf=True)"
            ],
            "text/html": [
              "<style>#sk-container-id-1 {color: black;background-color: white;}#sk-container-id-1 pre{padding: 0;}#sk-container-id-1 div.sk-toggleable {background-color: white;}#sk-container-id-1 label.sk-toggleable__label {cursor: pointer;display: block;width: 100%;margin-bottom: 0;padding: 0.3em;box-sizing: border-box;text-align: center;}#sk-container-id-1 label.sk-toggleable__label-arrow:before {content: \"▸\";float: left;margin-right: 0.25em;color: #696969;}#sk-container-id-1 label.sk-toggleable__label-arrow:hover:before {color: black;}#sk-container-id-1 div.sk-estimator:hover label.sk-toggleable__label-arrow:before {color: black;}#sk-container-id-1 div.sk-toggleable__content {max-height: 0;max-width: 0;overflow: hidden;text-align: left;background-color: #f0f8ff;}#sk-container-id-1 div.sk-toggleable__content pre {margin: 0.2em;color: black;border-radius: 0.25em;background-color: #f0f8ff;}#sk-container-id-1 input.sk-toggleable__control:checked~div.sk-toggleable__content {max-height: 200px;max-width: 100%;overflow: auto;}#sk-container-id-1 input.sk-toggleable__control:checked~label.sk-toggleable__label-arrow:before {content: \"▾\";}#sk-container-id-1 div.sk-estimator input.sk-toggleable__control:checked~label.sk-toggleable__label {background-color: #d4ebff;}#sk-container-id-1 div.sk-label input.sk-toggleable__control:checked~label.sk-toggleable__label {background-color: #d4ebff;}#sk-container-id-1 input.sk-hidden--visually {border: 0;clip: rect(1px 1px 1px 1px);clip: rect(1px, 1px, 1px, 1px);height: 1px;margin: -1px;overflow: hidden;padding: 0;position: absolute;width: 1px;}#sk-container-id-1 div.sk-estimator {font-family: monospace;background-color: #f0f8ff;border: 1px dotted black;border-radius: 0.25em;box-sizing: border-box;margin-bottom: 0.5em;}#sk-container-id-1 div.sk-estimator:hover {background-color: #d4ebff;}#sk-container-id-1 div.sk-parallel-item::after {content: \"\";width: 100%;border-bottom: 1px solid gray;flex-grow: 1;}#sk-container-id-1 div.sk-label:hover label.sk-toggleable__label {background-color: #d4ebff;}#sk-container-id-1 div.sk-serial::before {content: \"\";position: absolute;border-left: 1px solid gray;box-sizing: border-box;top: 0;bottom: 0;left: 50%;z-index: 0;}#sk-container-id-1 div.sk-serial {display: flex;flex-direction: column;align-items: center;background-color: white;padding-right: 0.2em;padding-left: 0.2em;position: relative;}#sk-container-id-1 div.sk-item {position: relative;z-index: 1;}#sk-container-id-1 div.sk-parallel {display: flex;align-items: stretch;justify-content: center;background-color: white;position: relative;}#sk-container-id-1 div.sk-item::before, #sk-container-id-1 div.sk-parallel-item::before {content: \"\";position: absolute;border-left: 1px solid gray;box-sizing: border-box;top: 0;bottom: 0;left: 50%;z-index: -1;}#sk-container-id-1 div.sk-parallel-item {display: flex;flex-direction: column;z-index: 1;position: relative;background-color: white;}#sk-container-id-1 div.sk-parallel-item:first-child::after {align-self: flex-end;width: 50%;}#sk-container-id-1 div.sk-parallel-item:last-child::after {align-self: flex-start;width: 50%;}#sk-container-id-1 div.sk-parallel-item:only-child::after {width: 0;}#sk-container-id-1 div.sk-dashed-wrapped {border: 1px dashed gray;margin: 0 0.4em 0.5em 0.4em;box-sizing: border-box;padding-bottom: 0.4em;background-color: white;}#sk-container-id-1 div.sk-label label {font-family: monospace;font-weight: bold;display: inline-block;line-height: 1.2em;}#sk-container-id-1 div.sk-label-container {text-align: center;}#sk-container-id-1 div.sk-container {/* jupyter's `normalize.less` sets `[hidden] { display: none; }` but bootstrap.min.css set `[hidden] { display: none !important; }` so we also need the `!important` here to be able to override the default hidden behavior on the sphinx rendered scikit-learn.org. See: https://github.com/scikit-learn/scikit-learn/issues/21755 */display: inline-block !important;position: relative;}#sk-container-id-1 div.sk-text-repr-fallback {display: none;}</style><div id=\"sk-container-id-1\" class=\"sk-top-container\"><div class=\"sk-text-repr-fallback\"><pre>TfidfVectorizer(max_df=0.95, min_df=0.03, sublinear_tf=True)</pre><b>In a Jupyter environment, please rerun this cell to show the HTML representation or trust the notebook. <br />On GitHub, the HTML representation is unable to render, please try loading this page with nbviewer.org.</b></div><div class=\"sk-container\" hidden><div class=\"sk-item\"><div class=\"sk-estimator sk-toggleable\"><input class=\"sk-toggleable__control sk-hidden--visually\" id=\"sk-estimator-id-1\" type=\"checkbox\" checked><label for=\"sk-estimator-id-1\" class=\"sk-toggleable__label sk-toggleable__label-arrow\">TfidfVectorizer</label><div class=\"sk-toggleable__content\"><pre>TfidfVectorizer(max_df=0.95, min_df=0.03, sublinear_tf=True)</pre></div></div></div></div></div>"
            ]
          },
          "metadata": {}
        },
        {
          "output_type": "display_data",
          "data": {
            "text/plain": [
              "(7895, 280)"
            ]
          },
          "metadata": {}
        }
      ]
    },
    {
      "cell_type": "code",
      "source": [
        "emb=[]\n",
        "target=[]\n",
        "for i in range(data.shape[0]):\n",
        "  for j in data.genres[i].split(', '):\n",
        "    if j!=\"News\":\n",
        "      emb.append(features[i])\n",
        "      target.append(j)\n",
        "emb=np.array(emb)\n",
        "target=np.array(target)\n",
        "print(emb.shape,target.shape)"
      ],
      "metadata": {
        "colab": {
          "base_uri": "https://localhost:8080/"
        },
        "id": "d4QS2MyppzFX",
        "outputId": "d0f44aeb-f272-46e9-9007-9bfdd0e718b1"
      },
      "execution_count": 15,
      "outputs": [
        {
          "output_type": "stream",
          "name": "stdout",
          "text": [
            "(21569, 280) (21569,)\n"
          ]
        }
      ]
    },
    {
      "cell_type": "code",
      "source": [
        "target=pd.get_dummies(target)\n",
        "gen=target.columns\n",
        "target=target.to_numpy()"
      ],
      "metadata": {
        "id": "7Mo3glv4p3TJ"
      },
      "execution_count": 16,
      "outputs": []
    },
    {
      "cell_type": "code",
      "source": [
        "X_train, X_test, y_train, y_test = train_test_split( emb, target, test_size=0.15, random_state=42,stratify=target)"
      ],
      "metadata": {
        "id": "h7NCYqhtbhxu"
      },
      "execution_count": 17,
      "outputs": []
    },
    {
      "cell_type": "code",
      "source": [
        "X_Train, X_val, y_Train, y_val = train_test_split(X_train, y_train, test_size=0.15, random_state=42,stratify=y_train)"
      ],
      "metadata": {
        "id": "v4UNmqDQgC1j"
      },
      "execution_count": 18,
      "outputs": []
    },
    {
      "cell_type": "code",
      "source": [
        "print(y_Train.shape,y_val.shape,y_test.shape)"
      ],
      "metadata": {
        "colab": {
          "base_uri": "https://localhost:8080/"
        },
        "id": "wPZcULvTfqcY",
        "outputId": "431379b3-0b27-4090-b6ce-406d8ee4e50d"
      },
      "execution_count": 19,
      "outputs": [
        {
          "output_type": "stream",
          "name": "stdout",
          "text": [
            "(15583, 23) (2750, 23) (3236, 23)\n"
          ]
        }
      ]
    },
    {
      "cell_type": "code",
      "source": [
        "print(X_Train.shape,X_val.shape,X_test.shape)"
      ],
      "metadata": {
        "colab": {
          "base_uri": "https://localhost:8080/"
        },
        "id": "DqzckGBSlyIX",
        "outputId": "55eca0a6-ced2-49ce-a284-5d5b3c6c1f6f"
      },
      "execution_count": 20,
      "outputs": [
        {
          "output_type": "stream",
          "name": "stdout",
          "text": [
            "(15583, 280) (2750, 280) (3236, 280)\n"
          ]
        }
      ]
    },
    {
      "cell_type": "code",
      "source": [],
      "metadata": {
        "id": "fgbuZVn7qyq8"
      },
      "execution_count": 20,
      "outputs": []
    },
    {
      "cell_type": "code",
      "source": [
        "import locale\n",
        "def getpreferredencoding(do_setlocale = True):\n",
        "    return \"UTF-8\"\n",
        "locale.getpreferredencoding = getpreferredencoding\n",
        "!pip install keras-tuner --upgrade"
      ],
      "metadata": {
        "colab": {
          "base_uri": "https://localhost:8080/"
        },
        "id": "JqE81BxUfuMo",
        "outputId": "c8dd54f5-eeeb-453b-a7b5-0d34d2f6b94d"
      },
      "execution_count": 21,
      "outputs": [
        {
          "output_type": "stream",
          "name": "stdout",
          "text": [
            "Looking in indexes: https://pypi.org/simple, https://us-python.pkg.dev/colab-wheels/public/simple/\n",
            "Collecting keras-tuner\n",
            "  Downloading keras_tuner-1.3.5-py3-none-any.whl (176 kB)\n",
            "\u001b[2K     \u001b[90m━━━━━━━━━━━━━━━━━━━━━━━━━━━━━━━━━━━━━━━\u001b[0m \u001b[32m176.1/176.1 kB\u001b[0m \u001b[31m8.1 MB/s\u001b[0m eta \u001b[36m0:00:00\u001b[0m\n",
            "\u001b[?25hRequirement already satisfied: packaging in /usr/local/lib/python3.10/dist-packages (from keras-tuner) (23.1)\n",
            "Requirement already satisfied: requests in /usr/local/lib/python3.10/dist-packages (from keras-tuner) (2.27.1)\n",
            "Collecting kt-legacy (from keras-tuner)\n",
            "  Downloading kt_legacy-1.0.5-py3-none-any.whl (9.6 kB)\n",
            "Requirement already satisfied: urllib3<1.27,>=1.21.1 in /usr/local/lib/python3.10/dist-packages (from requests->keras-tuner) (1.26.15)\n",
            "Requirement already satisfied: certifi>=2017.4.17 in /usr/local/lib/python3.10/dist-packages (from requests->keras-tuner) (2022.12.7)\n",
            "Requirement already satisfied: charset-normalizer~=2.0.0 in /usr/local/lib/python3.10/dist-packages (from requests->keras-tuner) (2.0.12)\n",
            "Requirement already satisfied: idna<4,>=2.5 in /usr/local/lib/python3.10/dist-packages (from requests->keras-tuner) (3.4)\n",
            "Installing collected packages: kt-legacy, keras-tuner\n",
            "Successfully installed keras-tuner-1.3.5 kt-legacy-1.0.5\n"
          ]
        }
      ]
    },
    {
      "cell_type": "code",
      "source": [
        "import tensorflow as tf\n",
        "from tensorflow import keras\n",
        "from tensorflow.keras.models import Sequential\n",
        "from tensorflow.keras.layers import Dense\n",
        "from tensorflow.keras.optimizers import Adam\n",
        "from tensorflow.keras.metrics import SparseCategoricalAccuracy\n",
        "from keras_tuner import HyperModel, RandomSearch\n",
        "import keras_tuner"
      ],
      "metadata": {
        "id": "5fz-SiVZfxtb"
      },
      "execution_count": 22,
      "outputs": []
    },
    {
      "cell_type": "code",
      "source": [
        "batch_size=X_Train.shape[0]//32\n",
        "train_dataset =tf.data.Dataset.from_tensor_slices((X_Train, y_Train)).shuffle(len(X_Train))\n",
        "train_dataset = train_dataset.shuffle(len(X_Train)).batch(batch_size, drop_remainder=True)\n",
        "\n",
        "val_dataset = tf.data.Dataset.from_tensor_slices((X_val, y_val))\n",
        "val_dataset = val_dataset.batch(batch_size, drop_remainder=True)\n",
        "\n",
        "test_dataset = tf.data.Dataset.from_tensor_slices((X_test, y_test))\n",
        "test_dataset = test_dataset.batch(batch_size, drop_remainder=True)"
      ],
      "metadata": {
        "id": "Q5qH9ewMf0lK"
      },
      "execution_count": 23,
      "outputs": []
    },
    {
      "cell_type": "code",
      "source": [
        "def build_model(hp):\n",
        "    model = keras.Sequential()\n",
        "    model.add(Dense(units=hp.Int('units1', min_value=64, max_value=512, step=32),activation='relu', input_shape=(None,X_Train.shape[1])))\n",
        "    model.add(Dense(units=hp.Int('units2', min_value=64, max_value=256, step=32),activation='relu'))\n",
        "    model.add(Dense(23, activation='softmax'))\n",
        "    model.compile(optimizer=Adam(hp.Choice('learning_rate', values=[1e-2, 1e-3, 1e-4])),\n",
        "                  loss='categorical_crossentropy',\n",
        "                  metrics=[\"accuracy\"])\n",
        "    return model"
      ],
      "metadata": {
        "id": "SUqG4piyibN0"
      },
      "execution_count": 141,
      "outputs": []
    },
    {
      "cell_type": "code",
      "source": [
        "nn = build_model(keras_tuner.HyperParameters())\n",
        "nn.summary()"
      ],
      "metadata": {
        "colab": {
          "base_uri": "https://localhost:8080/"
        },
        "id": "xjkT-j4Aigpt",
        "outputId": "24d51d9a-ffd4-4f9d-e9c4-dff47554d58d"
      },
      "execution_count": 142,
      "outputs": [
        {
          "output_type": "stream",
          "name": "stdout",
          "text": [
            "Model: \"sequential_1\"\n",
            "_________________________________________________________________\n",
            " Layer (type)                Output Shape              Param #   \n",
            "=================================================================\n",
            " dense_3 (Dense)             (None, None, 64)          17984     \n",
            "                                                                 \n",
            " dense_4 (Dense)             (None, None, 64)          4160      \n",
            "                                                                 \n",
            " dense_5 (Dense)             (None, None, 23)          1495      \n",
            "                                                                 \n",
            "=================================================================\n",
            "Total params: 23,639\n",
            "Trainable params: 23,639\n",
            "Non-trainable params: 0\n",
            "_________________________________________________________________\n"
          ]
        }
      ]
    },
    {
      "cell_type": "code",
      "source": [
        "tuner = keras_tuner.RandomSearch(\n",
        "    hypermodel=build_model,\n",
        "    objective=\"val_accuracy\",\n",
        "    max_trials=3,\n",
        "    executions_per_trial=2,\n",
        "    overwrite=True,\n",
        "    directory=\"\",\n",
        "    project_name=\"movie\",\n",
        ")"
      ],
      "metadata": {
        "id": "ojMyJhvjij6O"
      },
      "execution_count": 143,
      "outputs": []
    },
    {
      "cell_type": "code",
      "source": [
        "tuner.search_space_summary()"
      ],
      "metadata": {
        "colab": {
          "base_uri": "https://localhost:8080/"
        },
        "id": "A5ZinotGinMB",
        "outputId": "1dd3c88b-abd0-4f85-9195-9691052f13d3"
      },
      "execution_count": 144,
      "outputs": [
        {
          "output_type": "stream",
          "name": "stdout",
          "text": [
            "Search space summary\n",
            "Default search space size: 3\n",
            "units1 (Int)\n",
            "{'default': None, 'conditions': [], 'min_value': 64, 'max_value': 512, 'step': 32, 'sampling': 'linear'}\n",
            "units2 (Int)\n",
            "{'default': None, 'conditions': [], 'min_value': 64, 'max_value': 256, 'step': 32, 'sampling': 'linear'}\n",
            "learning_rate (Choice)\n",
            "{'default': 0.01, 'conditions': [], 'values': [0.01, 0.001, 0.0001], 'ordered': True}\n"
          ]
        }
      ]
    },
    {
      "cell_type": "code",
      "source": [
        "tuner.search(train_dataset, epochs=30,validation_data=val_dataset,\n",
        "             callbacks=[tf.keras.callbacks.EarlyStopping(monitor='val_accuracy', patience=5,mode=\"max\")])"
      ],
      "metadata": {
        "colab": {
          "base_uri": "https://localhost:8080/"
        },
        "id": "_OwhXHQCivN8",
        "outputId": "e4b9ff44-361e-478a-bebe-51d08eda7762"
      },
      "execution_count": 145,
      "outputs": [
        {
          "output_type": "stream",
          "name": "stdout",
          "text": [
            "Trial 3 Complete [00h 00m 13s]\n",
            "val_accuracy: 0.20679011940956116\n",
            "\n",
            "Best val_accuracy So Far: 0.22078189253807068\n",
            "Total elapsed time: 00h 00m 29s\n"
          ]
        }
      ]
    },
    {
      "cell_type": "code",
      "source": [
        "best_hps = tuner.get_best_hyperparameters(1)[0]\n",
        "best_hps.values"
      ],
      "metadata": {
        "colab": {
          "base_uri": "https://localhost:8080/"
        },
        "id": "36r0bsXwiy3h",
        "outputId": "a7ced1e2-9773-4804-8868-3014b3c22c99"
      },
      "execution_count": 146,
      "outputs": [
        {
          "output_type": "execute_result",
          "data": {
            "text/plain": [
              "{'units1': 192, 'units2': 64, 'learning_rate': 0.01}"
            ]
          },
          "metadata": {},
          "execution_count": 146
        }
      ]
    },
    {
      "cell_type": "code",
      "source": [
        "cnn = build_model(best_hps)\n",
        "cnn.summary()"
      ],
      "metadata": {
        "colab": {
          "base_uri": "https://localhost:8080/"
        },
        "id": "9cJ_to6Si2fG",
        "outputId": "b7cdf426-f93d-4064-fb48-88e974248ccf"
      },
      "execution_count": 147,
      "outputs": [
        {
          "output_type": "stream",
          "name": "stdout",
          "text": [
            "Model: \"sequential_1\"\n",
            "_________________________________________________________________\n",
            " Layer (type)                Output Shape              Param #   \n",
            "=================================================================\n",
            " dense_3 (Dense)             (None, None, 192)         53952     \n",
            "                                                                 \n",
            " dense_4 (Dense)             (None, None, 64)          12352     \n",
            "                                                                 \n",
            " dense_5 (Dense)             (None, None, 23)          1495      \n",
            "                                                                 \n",
            "=================================================================\n",
            "Total params: 67,799\n",
            "Trainable params: 67,799\n",
            "Non-trainable params: 0\n",
            "_________________________________________________________________\n"
          ]
        }
      ]
    },
    {
      "cell_type": "code",
      "source": [
        "stopping = tf.keras.callbacks.EarlyStopping(\n",
        "                monitor='val_accuracy',            # La métrica que se va a monitorear.\n",
        "                patience=5,              # Si después de 50 epochs la métrica no mejora, se detiene el entrenamiento.\n",
        "                mode=\"max\",               # Se quiere guardar el modelo que reporte el accuracy máximo: max.\n",
        "                restore_best_weights=True # Si True, automaticamente se cargan al modelo los mejores pesos.\n",
        "            )\n",
        "checkpoint = tf.keras.callbacks.ModelCheckpoint(\n",
        "                  filepath='best_weights.h5', # Path del archivo donde se guardarán los pesos o el modelo.\n",
        "                  monitor='val_accuracy',              # La métrica que se va a monitorear.\n",
        "                  mode=\"max\",                 # Se quiere guardar el modelo que reporte el accuracy máximo: max.\n",
        "                  save_best_only=True,        # Si se define True, entonces solo se guarda el mejor modelo.\n",
        "                  save_weights_only=False      # Si se define True, solo se guardan los pesos, no la arquitectura.\n",
        "              )\n",
        "hist = cnn.fit(train_dataset, epochs=20,\n",
        "                 batch_size=batch_size,\n",
        "                validation_data=val_dataset,\n",
        "                 callbacks=[checkpoint, stopping])"
      ],
      "metadata": {
        "colab": {
          "base_uri": "https://localhost:8080/"
        },
        "id": "lsABjXaci6AA",
        "outputId": "d6bf2a0b-09c5-4a5c-8b27-e811740f1e55"
      },
      "execution_count": 148,
      "outputs": [
        {
          "output_type": "stream",
          "name": "stdout",
          "text": [
            "Epoch 1/20\n",
            "32/32 [==============================] - 1s 9ms/step - loss: 2.6233 - accuracy: 0.1899 - val_loss: 2.4665 - val_accuracy: 0.2226\n",
            "Epoch 2/20\n",
            "32/32 [==============================] - 0s 6ms/step - loss: 2.3395 - accuracy: 0.2368 - val_loss: 2.3812 - val_accuracy: 0.2284\n",
            "Epoch 3/20\n",
            "32/32 [==============================] - 0s 5ms/step - loss: 2.2291 - accuracy: 0.2528 - val_loss: 2.3822 - val_accuracy: 0.2206\n",
            "Epoch 4/20\n",
            "32/32 [==============================] - 0s 5ms/step - loss: 2.1427 - accuracy: 0.2659 - val_loss: 2.3952 - val_accuracy: 0.1971\n",
            "Epoch 5/20\n",
            "32/32 [==============================] - 0s 6ms/step - loss: 2.0406 - accuracy: 0.2847 - val_loss: 2.4211 - val_accuracy: 0.1811\n",
            "Epoch 6/20\n",
            "32/32 [==============================] - 0s 9ms/step - loss: 1.9422 - accuracy: 0.2971 - val_loss: 2.4810 - val_accuracy: 0.1864\n",
            "Epoch 7/20\n",
            "32/32 [==============================] - 0s 8ms/step - loss: 1.8512 - accuracy: 0.3098 - val_loss: 2.5481 - val_accuracy: 0.1490\n"
          ]
        }
      ]
    },
    {
      "cell_type": "code",
      "source": [
        "hist.history.keys()"
      ],
      "metadata": {
        "colab": {
          "base_uri": "https://localhost:8080/"
        },
        "id": "BiytpIn8i804",
        "outputId": "b450fc0f-d71d-443d-8b6f-bbf50c0a26c0"
      },
      "execution_count": 149,
      "outputs": [
        {
          "output_type": "execute_result",
          "data": {
            "text/plain": [
              "dict_keys(['loss', 'accuracy', 'val_loss', 'val_accuracy'])"
            ]
          },
          "metadata": {},
          "execution_count": 149
        }
      ]
    },
    {
      "cell_type": "code",
      "source": [
        "plt.figure(figsize=(10,5))\n",
        "plt.subplot(121)\n",
        "plt.plot(hist.history[\"loss\"], label=\"entrenamiento\")\n",
        "plt.plot(hist.history[\"val_loss\"], label=\"validación\")\n",
        "plt.title(\"Pérdida\"); plt.xlabel(\"Época\"); plt.legend()\n",
        "plt.subplot(122)\n",
        "plt.plot(hist.history[\"accuracy\"], label=\"entrenamiento\")\n",
        "plt.plot(hist.history[\"val_accuracy\"], label=\"validación\")\n",
        "plt.title(\"Accuracy\"); plt.xlabel(\"Época\"); plt.legend()"
      ],
      "metadata": {
        "colab": {
          "base_uri": "https://localhost:8080/",
          "height": 512
        },
        "id": "MIBcqds3qaO6",
        "outputId": "049c15c2-e168-4baa-e899-b143c493ea5d"
      },
      "execution_count": 160,
      "outputs": [
        {
          "output_type": "execute_result",
          "data": {
            "text/plain": [
              "<matplotlib.legend.Legend at 0x7f1a6816fbe0>"
            ]
          },
          "metadata": {},
          "execution_count": 160
        },
        {
          "output_type": "display_data",
          "data": {
            "text/plain": [
              "<Figure size 1000x500 with 2 Axes>"
            ],
            "image/png": "[encoded data removed]"
          },
          "metadata": {}
        }
      ]
    },
    {
      "cell_type": "code",
      "source": [
        "from sklearn.metrics import roc_auc_score\n",
        "roc_auc_score(y_test, cnn.predict(X_test), average=\"macro\",multi_class='ovr')"
      ],
      "metadata": {
        "colab": {
          "base_uri": "https://localhost:8080/"
        },
        "id": "rllWkU_ejURO",
        "outputId": "6e971d17-0ece-4474-9903-b071afc25f73"
      },
      "execution_count": 154,
      "outputs": [
        {
          "output_type": "stream",
          "name": "stdout",
          "text": [
            "102/102 [==============================] - 0s 2ms/step\n"
          ]
        },
        {
          "output_type": "execute_result",
          "data": {
            "text/plain": [
              "0.7731364027114418"
            ]
          },
          "metadata": {},
          "execution_count": 154
        }
      ]
    },
    {
      "cell_type": "code",
      "source": [
        "from sklearn.metrics import classification_report\n",
        "predictions = cnn.predict(X_test)\n",
        "y=[np.argmax(y_test[i]) for i in range(len(y_test))]\n",
        "pred=[np.argmax(predictions[i]) for i in range(len(predictions))]\n",
        "print(classification_report(y,pred))"
      ],
      "metadata": {
        "colab": {
          "base_uri": "https://localhost:8080/"
        },
        "id": "Uzu4HVT_TrHl",
        "outputId": "ab0660b0-f2a4-4da4-fb4f-561ca112e1b5"
      },
      "execution_count": 173,
      "outputs": [
        {
          "output_type": "stream",
          "name": "stdout",
          "text": [
            "102/102 [==============================] - 0s 2ms/step\n",
            "              precision    recall  f1-score   support\n",
            "\n",
            "           0       0.19      0.09      0.12       195\n",
            "           1       0.20      0.16      0.18       154\n",
            "           2       0.00      0.00      0.00        39\n",
            "           3       0.00      0.00      0.00        56\n",
            "           4       0.22      0.39      0.28       457\n",
            "           5       0.22      0.22      0.22       217\n",
            "           6       0.27      0.24      0.25        63\n",
            "           7       0.24      0.48      0.32       595\n",
            "           8       0.15      0.09      0.11       102\n",
            "           9       0.18      0.03      0.05       106\n",
            "          10       0.00      0.00      0.00        25\n",
            "          11       0.00      0.00      0.00        41\n",
            "          12       0.22      0.20      0.21       143\n",
            "          13       0.00      0.00      0.00        51\n",
            "          14       0.00      0.00      0.00        41\n",
            "          15       0.00      0.00      0.00       114\n",
            "          16       0.24      0.07      0.10       284\n",
            "          17       0.18      0.09      0.12       108\n",
            "          18       0.00      0.00      0.00        14\n",
            "          19       0.42      0.13      0.20        39\n",
            "          20       0.14      0.17      0.15       304\n",
            "          21       0.15      0.08      0.10        52\n",
            "          22       0.00      0.00      0.00        36\n",
            "\n",
            "    accuracy                           0.22      3236\n",
            "   macro avg       0.13      0.11      0.11      3236\n",
            "weighted avg       0.18      0.22      0.18      3236\n",
            "\n"
          ]
        },
        {
          "output_type": "stream",
          "name": "stderr",
          "text": [
            "/usr/local/lib/python3.10/dist-packages/sklearn/metrics/_classification.py:1344: UndefinedMetricWarning: Precision and F-score are ill-defined and being set to 0.0 in labels with no predicted samples. Use `zero_division` parameter to control this behavior.\n",
            "  _warn_prf(average, modifier, msg_start, len(result))\n",
            "/usr/local/lib/python3.10/dist-packages/sklearn/metrics/_classification.py:1344: UndefinedMetricWarning: Precision and F-score are ill-defined and being set to 0.0 in labels with no predicted samples. Use `zero_division` parameter to control this behavior.\n",
            "  _warn_prf(average, modifier, msg_start, len(result))\n",
            "/usr/local/lib/python3.10/dist-packages/sklearn/metrics/_classification.py:1344: UndefinedMetricWarning: Precision and F-score are ill-defined and being set to 0.0 in labels with no predicted samples. Use `zero_division` parameter to control this behavior.\n",
            "  _warn_prf(average, modifier, msg_start, len(result))\n"
          ]
        }
      ]
    },
    {
      "cell_type": "code",
      "source": [
        "from sklearn.metrics import confusion_matrix\n",
        "cm = confusion_matrix(y, pred)\n",
        "cm = pd.DataFrame(data=cm, columns=gen, index=gen)\n",
        "fig, ax = plt.subplots()\n",
        "sns.heatmap(cm, annot=True, fmt=\".0f\", ax=ax)\n",
        "ax.set_xlabel(\"Predicción\")\n",
        "ax.set_ylabel(\"Real\")\n",
        "fig.show()"
      ],
      "metadata": {
        "colab": {
          "base_uri": "https://localhost:8080/",
          "height": 934
        },
        "id": "dlnyYSqWtky7",
        "outputId": "edf17fa0-bf14-4f02-d2ea-70da4f7b5382"
      },
      "execution_count": 174,
      "outputs": [
        {
          "output_type": "display_data",
          "data": {
            "text/plain": [
              "<Figure size 1000x1000 with 2 Axes>"
            ],
            "image/png": "[encoded data removed]"
          },
          "metadata": {}
        }
      ]
    },
    {
      "cell_type": "code",
      "source": [],
      "metadata": {
        "id": "wNn-SNbJsUK_"
      },
      "execution_count": null,
      "outputs": []
    }
  ],
  "metadata": {
    "colab": {
      "provenance": [],
      "machine_shape": "hm",
      "gpuType": "T4"
    },
    "kernelspec": {
      "display_name": "Python 3",
      "name": "python3"
    },
    "language_info": {
      "codemirror_mode": {
        "name": "ipython",
        "version": 3
      },
      "file_extension": ".py",
      "mimetype": "text/x-python",
      "name": "python",
      "nbconvert_exporter": "python",
      "pygments_lexer": "ipython3",
      "version": "3.9.16"
    },
    "accelerator": "GPU"
  },
  "nbformat": 4,
  "nbformat_minor": 0
}