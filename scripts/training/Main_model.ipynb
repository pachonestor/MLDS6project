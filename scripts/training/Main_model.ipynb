{
  "cells": [
    {
      "cell_type": "markdown",
      "metadata": {
        "id": "Vj5MmU_2qo8D"
      },
      "source": [
        "# Modelo de Red Neuronal"
      ]
    },
    {
      "cell_type": "markdown",
      "metadata": {
        "id": "E34ZAfszqo8E"
      },
      "source": [
        "![image info](https://raw.githubusercontent.com/albahnsen/MIAD_ML_and_NLP/main/images/moviegenre.png)"
      ]
    },
    {
      "cell_type": "markdown",
      "metadata": {
        "id": "qxlI2dAdqo8F"
      },
      "source": [
        "# Cargue de Librerías"
      ]
    },
    {
      "cell_type": "code",
      "execution_count": null,
      "metadata": {
        "colab": {
          "base_uri": "https://localhost:8080/"
        },
        "id": "w7Jy_LxLWYw2",
        "outputId": "5737f0eb-9ac5-4d1a-e28d-a8c4eb25fcfa"
      },
      "outputs": [
        {
          "output_type": "stream",
          "name": "stdout",
          "text": [
            "Collecting unidecode\n",
            "  Downloading Unidecode-1.3.6-py3-none-any.whl (235 kB)\n",
            "\u001b[?25l     \u001b[90m━━━━━━━━━━━━━━━━━━━━━━━━━━━━━━━━━━━━━━━━\u001b[0m \u001b[32m0.0/235.9 kB\u001b[0m \u001b[31m?\u001b[0m eta \u001b[36m-:--:--\u001b[0m\r\u001b[2K     \u001b[90m━━━━━━━━━━━━━━━━━━━━━━━━━━━━━━━━━━━━━━\u001b[0m \u001b[32m235.9/235.9 kB\u001b[0m \u001b[31m13.3 MB/s\u001b[0m eta \u001b[36m0:00:00\u001b[0m\n",
            "\u001b[?25hInstalling collected packages: unidecode\n",
            "Successfully installed unidecode-1.3.6\n",
            "Requirement already satisfied: nltk in /usr/local/lib/python3.10/dist-packages (3.8.1)\n",
            "Requirement already satisfied: click in /usr/local/lib/python3.10/dist-packages (from nltk) (8.1.3)\n",
            "Requirement already satisfied: joblib in /usr/local/lib/python3.10/dist-packages (from nltk) (1.2.0)\n",
            "Requirement already satisfied: regex>=2021.8.3 in /usr/local/lib/python3.10/dist-packages (from nltk) (2022.10.31)\n",
            "Requirement already satisfied: tqdm in /usr/local/lib/python3.10/dist-packages (from nltk) (4.65.0)\n"
          ]
        }
      ],
      "source": [
        "!pip install unidecode\n",
        "!pip install nltk"
      ]
    },
    {
      "cell_type": "code",
      "execution_count": null,
      "metadata": {
        "colab": {
          "base_uri": "https://localhost:8080/"
        },
        "id": "vXC99ayWqo8H",
        "outputId": "cfe76799-29a0-4e67-8e76-e5bc9c86f263"
      },
      "outputs": [
        {
          "output_type": "stream",
          "name": "stdout",
          "text": [
            "\u001b[38;5;2m✔ Download and installation successful\u001b[0m\n",
            "You can now load the package via spacy.load('en_core_web_sm')\n"
          ]
        }
      ],
      "source": [
        "# Importación librerías\n",
        "import pandas as pd\n",
        "import numpy as np\n",
        "import re\n",
        "from unidecode import unidecode\n",
        "import spacy\n",
        "import nltk\n",
        "from nltk.stem.snowball import SnowballStemmer\n",
        "snow_stemmer = SnowballStemmer('english')\n",
        "from sklearn.feature_extraction.text import TfidfVectorizer\n",
        "import seaborn as sns\n",
        "from sklearn.metrics import r2_score, roc_auc_score\n",
        "from sklearn.model_selection import train_test_split\n",
        "from sklearn.metrics import classification_report\n",
        "import matplotlib.pyplot as plt\n",
        "plt.rcParams['figure.figsize'] = [10, 10]\n",
        "plt.style.use(\"ggplot\")\n",
        "spacy.cli.download(\"en_core_web_sm\")\n",
        "nlp = spacy.load(\"en_core_web_sm\")"
      ]
    },
    {
      "cell_type": "markdown",
      "metadata": {
        "id": "ZWhhod4faH9g"
      },
      "source": [
        "# Carga de la base de datos"
      ]
    },
    {
      "cell_type": "code",
      "execution_count": null,
      "metadata": {
        "id": "jtXNDOeWqo8I"
      },
      "outputs": [],
      "source": [
        "dt= pd.read_csv('https://github.com/albahnsen/MIAD_ML_and_NLP/raw/main/datasets/dataTraining.zip', encoding='UTF-8', index_col=0).reset_index().drop(\"index\",axis=1)"
      ]
    },
    {
      "cell_type": "markdown",
      "metadata": {
        "id": "w39lMoWIaT3i"
      },
      "source": [
        "# Visualización de la base de datos"
      ]
    },
    {
      "cell_type": "code",
      "execution_count": null,
      "metadata": {
        "colab": {
          "base_uri": "https://localhost:8080/",
          "height": 206
        },
        "id": "gTJUaSGKqo8J",
        "outputId": "a44c5043-f8f9-44e8-9fab-d63442d2f8e7"
      },
      "outputs": [
        {
          "output_type": "execute_result",
          "data": {
            "text/plain": [
              "   year                      title  \\\n",
              "0  2003                       Most   \n",
              "1  2008  How to Be a Serial Killer   \n",
              "2  1941             A Woman's Face   \n",
              "3  1954            Executive Suite   \n",
              "4  1990              Narrow Margin   \n",
              "\n",
              "                                                plot  \\\n",
              "0  most is the story of a single father who takes...   \n",
              "1  a serial killer decides to teach the secrets o...   \n",
              "2  in sweden ,  a female blackmailer with a disfi...   \n",
              "3  in a friday afternoon in new york ,  the presi...   \n",
              "4  in los angeles ,  the editor of a publishing h...   \n",
              "\n",
              "                               genres  rating  \n",
              "0                  ['Short', 'Drama']     8.0  \n",
              "1       ['Comedy', 'Crime', 'Horror']     5.6  \n",
              "2  ['Drama', 'Film-Noir', 'Thriller']     7.2  \n",
              "3                           ['Drama']     7.4  \n",
              "4     ['Action', 'Crime', 'Thriller']     6.6  "
            ],
            "text/html": [
              "\n",
              "  <div id=\"df-066c97f9-04f4-4745-9118-efffb1cca7a7\">\n",
              "    <div class=\"colab-df-container\">\n",
              "      <div>\n",
              "<style scoped>\n",
              "    .dataframe tbody tr th:only-of-type {\n",
              "        vertical-align: middle;\n",
              "    }\n",
              "\n",
              "    .dataframe tbody tr th {\n",
              "        vertical-align: top;\n",
              "    }\n",
              "\n",
              "    .dataframe thead th {\n",
              "        text-align: right;\n",
              "    }\n",
              "</style>\n",
              "<table border=\"1\" class=\"dataframe\">\n",
              "  <thead>\n",
              "    <tr style=\"text-align: right;\">\n",
              "      <th></th>\n",
              "      <th>year</th>\n",
              "      <th>title</th>\n",
              "      <th>plot</th>\n",
              "      <th>genres</th>\n",
              "      <th>rating</th>\n",
              "    </tr>\n",
              "  </thead>\n",
              "  <tbody>\n",
              "    <tr>\n",
              "      <th>0</th>\n",
              "      <td>2003</td>\n",
              "      <td>Most</td>\n",
              "      <td>most is the story of a single father who takes...</td>\n",
              "      <td>['Short', 'Drama']</td>\n",
              "      <td>8.0</td>\n",
              "    </tr>\n",
              "    <tr>\n",
              "      <th>1</th>\n",
              "      <td>2008</td>\n",
              "      <td>How to Be a Serial Killer</td>\n",
              "      <td>a serial killer decides to teach the secrets o...</td>\n",
              "      <td>['Comedy', 'Crime', 'Horror']</td>\n",
              "      <td>5.6</td>\n",
              "    </tr>\n",
              "    <tr>\n",
              "      <th>2</th>\n",
              "      <td>1941</td>\n",
              "      <td>A Woman's Face</td>\n",
              "      <td>in sweden ,  a female blackmailer with a disfi...</td>\n",
              "      <td>['Drama', 'Film-Noir', 'Thriller']</td>\n",
              "      <td>7.2</td>\n",
              "    </tr>\n",
              "    <tr>\n",
              "      <th>3</th>\n",
              "      <td>1954</td>\n",
              "      <td>Executive Suite</td>\n",
              "      <td>in a friday afternoon in new york ,  the presi...</td>\n",
              "      <td>['Drama']</td>\n",
              "      <td>7.4</td>\n",
              "    </tr>\n",
              "    <tr>\n",
              "      <th>4</th>\n",
              "      <td>1990</td>\n",
              "      <td>Narrow Margin</td>\n",
              "      <td>in los angeles ,  the editor of a publishing h...</td>\n",
              "      <td>['Action', 'Crime', 'Thriller']</td>\n",
              "      <td>6.6</td>\n",
              "    </tr>\n",
              "  </tbody>\n",
              "</table>\n",
              "</div>\n",
              "      <button class=\"colab-df-convert\" onclick=\"convertToInteractive('df-066c97f9-04f4-4745-9118-efffb1cca7a7')\"\n",
              "              title=\"Convert this dataframe to an interactive table.\"\n",
              "              style=\"display:none;\">\n",
              "        \n",
              "  <svg xmlns=\"http://www.w3.org/2000/svg\" height=\"24px\"viewBox=\"0 0 24 24\"\n",
              "       width=\"24px\">\n",
              "    <path d=\"M0 0h24v24H0V0z\" fill=\"none\"/>\n",
              "    <path d=\"M18.56 5.44l.94 2.06.94-2.06 2.06-.94-2.06-.94-.94-2.06-.94 2.06-2.06.94zm-11 1L8.5 8.5l.94-2.06 2.06-.94-2.06-.94L8.5 2.5l-.94 2.06-2.06.94zm10 10l.94 2.06.94-2.06 2.06-.94-2.06-.94-.94-2.06-.94 2.06-2.06.94z\"/><path d=\"M17.41 7.96l-1.37-1.37c-.4-.4-.92-.59-1.43-.59-.52 0-1.04.2-1.43.59L10.3 9.45l-7.72 7.72c-.78.78-.78 2.05 0 2.83L4 21.41c.39.39.9.59 1.41.59.51 0 1.02-.2 1.41-.59l7.78-7.78 2.81-2.81c.8-.78.8-2.07 0-2.86zM5.41 20L4 18.59l7.72-7.72 1.47 1.35L5.41 20z\"/>\n",
              "  </svg>\n",
              "      </button>\n",
              "      \n",
              "  <style>\n",
              "    .colab-df-container {\n",
              "      display:flex;\n",
              "      flex-wrap:wrap;\n",
              "      gap: 12px;\n",
              "    }\n",
              "\n",
              "    .colab-df-convert {\n",
              "      background-color: #E8F0FE;\n",
              "      border: none;\n",
              "      border-radius: 50%;\n",
              "      cursor: pointer;\n",
              "      display: none;\n",
              "      fill: #1967D2;\n",
              "      height: 32px;\n",
              "      padding: 0 0 0 0;\n",
              "      width: 32px;\n",
              "    }\n",
              "\n",
              "    .colab-df-convert:hover {\n",
              "      background-color: #E2EBFA;\n",
              "      box-shadow: 0px 1px 2px rgba(60, 64, 67, 0.3), 0px 1px 3px 1px rgba(60, 64, 67, 0.15);\n",
              "      fill: #174EA6;\n",
              "    }\n",
              "\n",
              "    [theme=dark] .colab-df-convert {\n",
              "      background-color: #3B4455;\n",
              "      fill: #D2E3FC;\n",
              "    }\n",
              "\n",
              "    [theme=dark] .colab-df-convert:hover {\n",
              "      background-color: #434B5C;\n",
              "      box-shadow: 0px 1px 3px 1px rgba(0, 0, 0, 0.15);\n",
              "      filter: drop-shadow(0px 1px 2px rgba(0, 0, 0, 0.3));\n",
              "      fill: #FFFFFF;\n",
              "    }\n",
              "  </style>\n",
              "\n",
              "      <script>\n",
              "        const buttonEl =\n",
              "          document.querySelector('#df-066c97f9-04f4-4745-9118-efffb1cca7a7 button.colab-df-convert');\n",
              "        buttonEl.style.display =\n",
              "          google.colab.kernel.accessAllowed ? 'block' : 'none';\n",
              "\n",
              "        async function convertToInteractive(key) {\n",
              "          const element = document.querySelector('#df-066c97f9-04f4-4745-9118-efffb1cca7a7');\n",
              "          const dataTable =\n",
              "            await google.colab.kernel.invokeFunction('convertToInteractive',\n",
              "                                                     [key], {});\n",
              "          if (!dataTable) return;\n",
              "\n",
              "          const docLinkHtml = 'Like what you see? Visit the ' +\n",
              "            '<a target=\"_blank\" href=https://colab.research.google.com/notebooks/data_table.ipynb>data table notebook</a>'\n",
              "            + ' to learn more about interactive tables.';\n",
              "          element.innerHTML = '';\n",
              "          dataTable['output_type'] = 'display_data';\n",
              "          await google.colab.output.renderOutput(dataTable, element);\n",
              "          const docLink = document.createElement('div');\n",
              "          docLink.innerHTML = docLinkHtml;\n",
              "          element.appendChild(docLink);\n",
              "        }\n",
              "      </script>\n",
              "    </div>\n",
              "  </div>\n",
              "  "
            ]
          },
          "metadata": {},
          "execution_count": 4
        }
      ],
      "source": [
        "dt.head()"
      ]
    },
    {
      "cell_type": "markdown",
      "metadata": {
        "id": "vsEfgWY8aASO"
      },
      "source": [
        "## Tamaño de la  base de datos"
      ]
    },
    {
      "cell_type": "code",
      "execution_count": null,
      "metadata": {
        "colab": {
          "base_uri": "https://localhost:8080/"
        },
        "id": "V1sq5fyxIN9M",
        "outputId": "5c7abad6-e6c2-4998-83d1-617ddf68df00"
      },
      "outputs": [
        {
          "output_type": "execute_result",
          "data": {
            "text/plain": [
              "(7895, 5)"
            ]
          },
          "metadata": {},
          "execution_count": 5
        }
      ],
      "source": [
        "dt.shape"
      ]
    },
    {
      "cell_type": "markdown",
      "metadata": {
        "id": "huGwUD1yadIY"
      },
      "source": [
        "Se descartan las variables que no aportan al proyecto"
      ]
    },
    {
      "cell_type": "code",
      "execution_count": null,
      "metadata": {
        "colab": {
          "base_uri": "https://localhost:8080/",
          "height": 206
        },
        "id": "1CNE3EJvVPhQ",
        "outputId": "81534f83-e300-4968-8948-dd5f6ac16ab8"
      },
      "outputs": [
        {
          "output_type": "execute_result",
          "data": {
            "text/plain": [
              "                                                plot  \\\n",
              "0  most is the story of a single father who takes...   \n",
              "1  a serial killer decides to teach the secrets o...   \n",
              "2  in sweden ,  a female blackmailer with a disfi...   \n",
              "3  in a friday afternoon in new york ,  the presi...   \n",
              "4  in los angeles ,  the editor of a publishing h...   \n",
              "\n",
              "                               genres  \n",
              "0                  ['Short', 'Drama']  \n",
              "1       ['Comedy', 'Crime', 'Horror']  \n",
              "2  ['Drama', 'Film-Noir', 'Thriller']  \n",
              "3                           ['Drama']  \n",
              "4     ['Action', 'Crime', 'Thriller']  "
            ],
            "text/html": [
              "\n",
              "  <div id=\"df-6c7e3685-5855-49f4-9c0e-f6fe46a5abf4\">\n",
              "    <div class=\"colab-df-container\">\n",
              "      <div>\n",
              "<style scoped>\n",
              "    .dataframe tbody tr th:only-of-type {\n",
              "        vertical-align: middle;\n",
              "    }\n",
              "\n",
              "    .dataframe tbody tr th {\n",
              "        vertical-align: top;\n",
              "    }\n",
              "\n",
              "    .dataframe thead th {\n",
              "        text-align: right;\n",
              "    }\n",
              "</style>\n",
              "<table border=\"1\" class=\"dataframe\">\n",
              "  <thead>\n",
              "    <tr style=\"text-align: right;\">\n",
              "      <th></th>\n",
              "      <th>plot</th>\n",
              "      <th>genres</th>\n",
              "    </tr>\n",
              "  </thead>\n",
              "  <tbody>\n",
              "    <tr>\n",
              "      <th>0</th>\n",
              "      <td>most is the story of a single father who takes...</td>\n",
              "      <td>['Short', 'Drama']</td>\n",
              "    </tr>\n",
              "    <tr>\n",
              "      <th>1</th>\n",
              "      <td>a serial killer decides to teach the secrets o...</td>\n",
              "      <td>['Comedy', 'Crime', 'Horror']</td>\n",
              "    </tr>\n",
              "    <tr>\n",
              "      <th>2</th>\n",
              "      <td>in sweden ,  a female blackmailer with a disfi...</td>\n",
              "      <td>['Drama', 'Film-Noir', 'Thriller']</td>\n",
              "    </tr>\n",
              "    <tr>\n",
              "      <th>3</th>\n",
              "      <td>in a friday afternoon in new york ,  the presi...</td>\n",
              "      <td>['Drama']</td>\n",
              "    </tr>\n",
              "    <tr>\n",
              "      <th>4</th>\n",
              "      <td>in los angeles ,  the editor of a publishing h...</td>\n",
              "      <td>['Action', 'Crime', 'Thriller']</td>\n",
              "    </tr>\n",
              "  </tbody>\n",
              "</table>\n",
              "</div>\n",
              "      <button class=\"colab-df-convert\" onclick=\"convertToInteractive('df-6c7e3685-5855-49f4-9c0e-f6fe46a5abf4')\"\n",
              "              title=\"Convert this dataframe to an interactive table.\"\n",
              "              style=\"display:none;\">\n",
              "        \n",
              "  <svg xmlns=\"http://www.w3.org/2000/svg\" height=\"24px\"viewBox=\"0 0 24 24\"\n",
              "       width=\"24px\">\n",
              "    <path d=\"M0 0h24v24H0V0z\" fill=\"none\"/>\n",
              "    <path d=\"M18.56 5.44l.94 2.06.94-2.06 2.06-.94-2.06-.94-.94-2.06-.94 2.06-2.06.94zm-11 1L8.5 8.5l.94-2.06 2.06-.94-2.06-.94L8.5 2.5l-.94 2.06-2.06.94zm10 10l.94 2.06.94-2.06 2.06-.94-2.06-.94-.94-2.06-.94 2.06-2.06.94z\"/><path d=\"M17.41 7.96l-1.37-1.37c-.4-.4-.92-.59-1.43-.59-.52 0-1.04.2-1.43.59L10.3 9.45l-7.72 7.72c-.78.78-.78 2.05 0 2.83L4 21.41c.39.39.9.59 1.41.59.51 0 1.02-.2 1.41-.59l7.78-7.78 2.81-2.81c.8-.78.8-2.07 0-2.86zM5.41 20L4 18.59l7.72-7.72 1.47 1.35L5.41 20z\"/>\n",
              "  </svg>\n",
              "      </button>\n",
              "      \n",
              "  <style>\n",
              "    .colab-df-container {\n",
              "      display:flex;\n",
              "      flex-wrap:wrap;\n",
              "      gap: 12px;\n",
              "    }\n",
              "\n",
              "    .colab-df-convert {\n",
              "      background-color: #E8F0FE;\n",
              "      border: none;\n",
              "      border-radius: 50%;\n",
              "      cursor: pointer;\n",
              "      display: none;\n",
              "      fill: #1967D2;\n",
              "      height: 32px;\n",
              "      padding: 0 0 0 0;\n",
              "      width: 32px;\n",
              "    }\n",
              "\n",
              "    .colab-df-convert:hover {\n",
              "      background-color: #E2EBFA;\n",
              "      box-shadow: 0px 1px 2px rgba(60, 64, 67, 0.3), 0px 1px 3px 1px rgba(60, 64, 67, 0.15);\n",
              "      fill: #174EA6;\n",
              "    }\n",
              "\n",
              "    [theme=dark] .colab-df-convert {\n",
              "      background-color: #3B4455;\n",
              "      fill: #D2E3FC;\n",
              "    }\n",
              "\n",
              "    [theme=dark] .colab-df-convert:hover {\n",
              "      background-color: #434B5C;\n",
              "      box-shadow: 0px 1px 3px 1px rgba(0, 0, 0, 0.15);\n",
              "      filter: drop-shadow(0px 1px 2px rgba(0, 0, 0, 0.3));\n",
              "      fill: #FFFFFF;\n",
              "    }\n",
              "  </style>\n",
              "\n",
              "      <script>\n",
              "        const buttonEl =\n",
              "          document.querySelector('#df-6c7e3685-5855-49f4-9c0e-f6fe46a5abf4 button.colab-df-convert');\n",
              "        buttonEl.style.display =\n",
              "          google.colab.kernel.accessAllowed ? 'block' : 'none';\n",
              "\n",
              "        async function convertToInteractive(key) {\n",
              "          const element = document.querySelector('#df-6c7e3685-5855-49f4-9c0e-f6fe46a5abf4');\n",
              "          const dataTable =\n",
              "            await google.colab.kernel.invokeFunction('convertToInteractive',\n",
              "                                                     [key], {});\n",
              "          if (!dataTable) return;\n",
              "\n",
              "          const docLinkHtml = 'Like what you see? Visit the ' +\n",
              "            '<a target=\"_blank\" href=https://colab.research.google.com/notebooks/data_table.ipynb>data table notebook</a>'\n",
              "            + ' to learn more about interactive tables.';\n",
              "          element.innerHTML = '';\n",
              "          dataTable['output_type'] = 'display_data';\n",
              "          await google.colab.output.renderOutput(dataTable, element);\n",
              "          const docLink = document.createElement('div');\n",
              "          docLink.innerHTML = docLinkHtml;\n",
              "          element.appendChild(docLink);\n",
              "        }\n",
              "      </script>\n",
              "    </div>\n",
              "  </div>\n",
              "  "
            ]
          },
          "metadata": {},
          "execution_count": 6
        }
      ],
      "source": [
        "dt=dt[[\"plot\",\"genres\"]]\n",
        "dt.head()"
      ]
    },
    {
      "cell_type": "markdown",
      "metadata": {
        "id": "uPYGLRTtau0X"
      },
      "source": [
        "# Tipos de variables"
      ]
    },
    {
      "cell_type": "code",
      "execution_count": null,
      "metadata": {
        "colab": {
          "base_uri": "https://localhost:8080/"
        },
        "id": "R0fFtP8vVQwe",
        "outputId": "55d1f1a4-2de0-4581-80a2-0abee7a5e0dc"
      },
      "outputs": [
        {
          "output_type": "execute_result",
          "data": {
            "text/plain": [
              "plot      object\n",
              "genres    object\n",
              "dtype: object"
            ]
          },
          "metadata": {},
          "execution_count": 7
        }
      ],
      "source": [
        "dt.dtypes"
      ]
    },
    {
      "cell_type": "markdown",
      "metadata": {
        "id": "aRiaWjgga1GI"
      },
      "source": [
        "# Peso de la base de datos"
      ]
    },
    {
      "cell_type": "code",
      "execution_count": null,
      "metadata": {
        "colab": {
          "base_uri": "https://localhost:8080/"
        },
        "id": "pFDpTk4sVqPj",
        "outputId": "e615ca9b-bed5-4342-d1cc-509ec1946475"
      },
      "outputs": [
        {
          "output_type": "stream",
          "name": "stdout",
          "text": [
            "La base de datos tiene un peso de  7045029  bytes\n"
          ]
        }
      ],
      "source": [
        "import sys\n",
        "print(\"La base de datos tiene un peso de \",sys.getsizeof(dt),\" bytes\")"
      ]
    },
    {
      "cell_type": "markdown",
      "metadata": {
        "id": "-KKcJIT1a-vu"
      },
      "source": [
        "# Cantidad de filas vacias en la base de datos"
      ]
    },
    {
      "cell_type": "code",
      "execution_count": null,
      "metadata": {
        "colab": {
          "base_uri": "https://localhost:8080/"
        },
        "id": "uDJGNcvsWNvO",
        "outputId": "873e2703-49e9-4b3f-b8bd-e2d409de10df"
      },
      "outputs": [
        {
          "output_type": "execute_result",
          "data": {
            "text/plain": [
              "plot      0\n",
              "genres    0\n",
              "dtype: int64"
            ]
          },
          "metadata": {},
          "execution_count": 9
        }
      ],
      "source": [
        "dt.isnull().sum()"
      ]
    },
    {
      "cell_type": "markdown",
      "metadata": {
        "id": "I08vx3iRyAbU"
      },
      "source": [
        "## Preprocesamiento"
      ]
    },
    {
      "cell_type": "code",
      "execution_count": null,
      "metadata": {
        "id": "xxLgdVcNyFgZ"
      },
      "outputs": [],
      "source": [
        "def preprocess(text,min_len=2, max_len=23):\n",
        "    pat = re.compile(r\"[^a-z ]\")\n",
        "    spaces = re.compile(r\"\\s{2,}\")\n",
        "\n",
        "    # Normalizamos el texto\n",
        "    norm_text = unidecode(text)\n",
        "    doc = nlp(norm_text)\n",
        "\n",
        "    # Eliminamos stopwords\n",
        "    filtered_tokens = filter(lambda token: not token.is_stop, doc )\n",
        "\n",
        "    # Filtramos palabras por longitud\n",
        "    filtered_tokens2 = filter(lambda token: len(token) >= min_len\n",
        "                              and len(token) <= max_len, filtered_tokens)\n",
        "\n",
        "    # Obtenemos los lemmas de cada token\n",
        "    lemmas = map(lambda token: token.lemma_, filtered_tokens2 )\n",
        "    stem = map( lambda token: snow_stemmer.stem(token), lemmas )\n",
        "    lemma_text = \" \".join(stem)\n",
        "\n",
        "    # Quitamos grafía\n",
        "    lower_text = lemma_text.lower()\n",
        "\n",
        "    # Eliminamos caracteres especiales\n",
        "    clean_text = re.sub(pat, \"\", lower_text)\n",
        "\n",
        "    # Eliminamos espacios duplicados\n",
        "    spaces_text = re.sub(spaces, \" \", clean_text)\n",
        "    return spaces_text.strip()\n",
        "prepo_text=list(nlp.pipe(dt[\"plot\"].apply(preprocess).tolist(), n_process=-1))"
      ]
    },
    {
      "cell_type": "code",
      "execution_count": null,
      "metadata": {
        "id": "G9jPUDpyySxM"
      },
      "outputs": [],
      "source": [
        "dt['preprocessed_plot'] = [doc.text for doc in prepo_text]"
      ]
    },
    {
      "cell_type": "markdown",
      "metadata": {
        "id": "Mz5ZOWwApFuj"
      },
      "source": [
        "#  Preprocesamiento Variable objetivo"
      ]
    },
    {
      "cell_type": "code",
      "execution_count": null,
      "metadata": {
        "colab": {
          "base_uri": "https://localhost:8080/",
          "height": 206
        },
        "id": "2td8-dvppJGq",
        "outputId": "10908e91-d1ba-4aa8-e117-dac117da78e8"
      },
      "outputs": [
        {
          "output_type": "execute_result",
          "data": {
            "text/plain": [
              "                                                plot  \\\n",
              "0  most is the story of a single father who takes...   \n",
              "1  a serial killer decides to teach the secrets o...   \n",
              "2  in sweden ,  a female blackmailer with a disfi...   \n",
              "3  in a friday afternoon in new york ,  the presi...   \n",
              "4  in los angeles ,  the editor of a publishing h...   \n",
              "\n",
              "                       genres  \\\n",
              "0                Short, Drama   \n",
              "1       Comedy, Crime, Horror   \n",
              "2  Drama, Film-Noir, Thriller   \n",
              "3                       Drama   \n",
              "4     Action, Crime, Thriller   \n",
              "\n",
              "                                   preprocessed_plot  \n",
              "0  stori singl father take year old son work rail...  \n",
              "1  serial killer decid teach secret satisfi caree...  \n",
              "2  sweden femal blackmail disfigur facial scar me...  \n",
              "3  friday afternoon new york presid tredway corpo...  \n",
              "4  los angel editor publish hous carol hunnicut g...  "
            ],
            "text/html": [
              "\n",
              "  <div id=\"df-0ee91828-aa4c-477b-ab9a-3703091f60eb\">\n",
              "    <div class=\"colab-df-container\">\n",
              "      <div>\n",
              "<style scoped>\n",
              "    .dataframe tbody tr th:only-of-type {\n",
              "        vertical-align: middle;\n",
              "    }\n",
              "\n",
              "    .dataframe tbody tr th {\n",
              "        vertical-align: top;\n",
              "    }\n",
              "\n",
              "    .dataframe thead th {\n",
              "        text-align: right;\n",
              "    }\n",
              "</style>\n",
              "<table border=\"1\" class=\"dataframe\">\n",
              "  <thead>\n",
              "    <tr style=\"text-align: right;\">\n",
              "      <th></th>\n",
              "      <th>plot</th>\n",
              "      <th>genres</th>\n",
              "      <th>preprocessed_plot</th>\n",
              "    </tr>\n",
              "  </thead>\n",
              "  <tbody>\n",
              "    <tr>\n",
              "      <th>0</th>\n",
              "      <td>most is the story of a single father who takes...</td>\n",
              "      <td>Short, Drama</td>\n",
              "      <td>stori singl father take year old son work rail...</td>\n",
              "    </tr>\n",
              "    <tr>\n",
              "      <th>1</th>\n",
              "      <td>a serial killer decides to teach the secrets o...</td>\n",
              "      <td>Comedy, Crime, Horror</td>\n",
              "      <td>serial killer decid teach secret satisfi caree...</td>\n",
              "    </tr>\n",
              "    <tr>\n",
              "      <th>2</th>\n",
              "      <td>in sweden ,  a female blackmailer with a disfi...</td>\n",
              "      <td>Drama, Film-Noir, Thriller</td>\n",
              "      <td>sweden femal blackmail disfigur facial scar me...</td>\n",
              "    </tr>\n",
              "    <tr>\n",
              "      <th>3</th>\n",
              "      <td>in a friday afternoon in new york ,  the presi...</td>\n",
              "      <td>Drama</td>\n",
              "      <td>friday afternoon new york presid tredway corpo...</td>\n",
              "    </tr>\n",
              "    <tr>\n",
              "      <th>4</th>\n",
              "      <td>in los angeles ,  the editor of a publishing h...</td>\n",
              "      <td>Action, Crime, Thriller</td>\n",
              "      <td>los angel editor publish hous carol hunnicut g...</td>\n",
              "    </tr>\n",
              "  </tbody>\n",
              "</table>\n",
              "</div>\n",
              "      <button class=\"colab-df-convert\" onclick=\"convertToInteractive('df-0ee91828-aa4c-477b-ab9a-3703091f60eb')\"\n",
              "              title=\"Convert this dataframe to an interactive table.\"\n",
              "              style=\"display:none;\">\n",
              "        \n",
              "  <svg xmlns=\"http://www.w3.org/2000/svg\" height=\"24px\"viewBox=\"0 0 24 24\"\n",
              "       width=\"24px\">\n",
              "    <path d=\"M0 0h24v24H0V0z\" fill=\"none\"/>\n",
              "    <path d=\"M18.56 5.44l.94 2.06.94-2.06 2.06-.94-2.06-.94-.94-2.06-.94 2.06-2.06.94zm-11 1L8.5 8.5l.94-2.06 2.06-.94-2.06-.94L8.5 2.5l-.94 2.06-2.06.94zm10 10l.94 2.06.94-2.06 2.06-.94-2.06-.94-.94-2.06-.94 2.06-2.06.94z\"/><path d=\"M17.41 7.96l-1.37-1.37c-.4-.4-.92-.59-1.43-.59-.52 0-1.04.2-1.43.59L10.3 9.45l-7.72 7.72c-.78.78-.78 2.05 0 2.83L4 21.41c.39.39.9.59 1.41.59.51 0 1.02-.2 1.41-.59l7.78-7.78 2.81-2.81c.8-.78.8-2.07 0-2.86zM5.41 20L4 18.59l7.72-7.72 1.47 1.35L5.41 20z\"/>\n",
              "  </svg>\n",
              "      </button>\n",
              "      \n",
              "  <style>\n",
              "    .colab-df-container {\n",
              "      display:flex;\n",
              "      flex-wrap:wrap;\n",
              "      gap: 12px;\n",
              "    }\n",
              "\n",
              "    .colab-df-convert {\n",
              "      background-color: #E8F0FE;\n",
              "      border: none;\n",
              "      border-radius: 50%;\n",
              "      cursor: pointer;\n",
              "      display: none;\n",
              "      fill: #1967D2;\n",
              "      height: 32px;\n",
              "      padding: 0 0 0 0;\n",
              "      width: 32px;\n",
              "    }\n",
              "\n",
              "    .colab-df-convert:hover {\n",
              "      background-color: #E2EBFA;\n",
              "      box-shadow: 0px 1px 2px rgba(60, 64, 67, 0.3), 0px 1px 3px 1px rgba(60, 64, 67, 0.15);\n",
              "      fill: #174EA6;\n",
              "    }\n",
              "\n",
              "    [theme=dark] .colab-df-convert {\n",
              "      background-color: #3B4455;\n",
              "      fill: #D2E3FC;\n",
              "    }\n",
              "\n",
              "    [theme=dark] .colab-df-convert:hover {\n",
              "      background-color: #434B5C;\n",
              "      box-shadow: 0px 1px 3px 1px rgba(0, 0, 0, 0.15);\n",
              "      filter: drop-shadow(0px 1px 2px rgba(0, 0, 0, 0.3));\n",
              "      fill: #FFFFFF;\n",
              "    }\n",
              "  </style>\n",
              "\n",
              "      <script>\n",
              "        const buttonEl =\n",
              "          document.querySelector('#df-0ee91828-aa4c-477b-ab9a-3703091f60eb button.colab-df-convert');\n",
              "        buttonEl.style.display =\n",
              "          google.colab.kernel.accessAllowed ? 'block' : 'none';\n",
              "\n",
              "        async function convertToInteractive(key) {\n",
              "          const element = document.querySelector('#df-0ee91828-aa4c-477b-ab9a-3703091f60eb');\n",
              "          const dataTable =\n",
              "            await google.colab.kernel.invokeFunction('convertToInteractive',\n",
              "                                                     [key], {});\n",
              "          if (!dataTable) return;\n",
              "\n",
              "          const docLinkHtml = 'Like what you see? Visit the ' +\n",
              "            '<a target=\"_blank\" href=https://colab.research.google.com/notebooks/data_table.ipynb>data table notebook</a>'\n",
              "            + ' to learn more about interactive tables.';\n",
              "          element.innerHTML = '';\n",
              "          dataTable['output_type'] = 'display_data';\n",
              "          await google.colab.output.renderOutput(dataTable, element);\n",
              "          const docLink = document.createElement('div');\n",
              "          docLink.innerHTML = docLinkHtml;\n",
              "          element.appendChild(docLink);\n",
              "        }\n",
              "      </script>\n",
              "    </div>\n",
              "  </div>\n",
              "  "
            ]
          },
          "metadata": {},
          "execution_count": 12
        }
      ],
      "source": [
        "dt[\"genres\"] = dt[\"genres\"].apply(lambda x: x.replace('[','').replace(']','').replace(\"\\'\",''))\n",
        "dt.head()"
      ]
    },
    {
      "cell_type": "code",
      "execution_count": null,
      "metadata": {
        "colab": {
          "base_uri": "https://localhost:8080/",
          "height": 664
        },
        "id": "9rda2bi0pVVs",
        "outputId": "04c16052-12a6-414d-918d-dc9868eb4b48"
      },
      "outputs": [
        {
          "output_type": "execute_result",
          "data": {
            "text/plain": [
              "                                                plot  \\\n",
              "0  most is the story of a single father who takes...   \n",
              "1  a serial killer decides to teach the secrets o...   \n",
              "2  in sweden ,  a female blackmailer with a disfi...   \n",
              "3  in a friday afternoon in new york ,  the presi...   \n",
              "4  in los angeles ,  the editor of a publishing h...   \n",
              "\n",
              "                       genres  \\\n",
              "0                Short, Drama   \n",
              "1       Comedy, Crime, Horror   \n",
              "2  Drama, Film-Noir, Thriller   \n",
              "3                       Drama   \n",
              "4     Action, Crime, Thriller   \n",
              "\n",
              "                                   preprocessed_plot  Action  Adventure  \\\n",
              "0  stori singl father take year old son work rail...       0          0   \n",
              "1  serial killer decid teach secret satisfi caree...       0          0   \n",
              "2  sweden femal blackmail disfigur facial scar me...       0          0   \n",
              "3  friday afternoon new york presid tredway corpo...       0          0   \n",
              "4  los angel editor publish hous carol hunnicut g...       1          0   \n",
              "\n",
              "   Animation  Biography  Comedy  Crime  Documentary  ...  Musical  Mystery  \\\n",
              "0          0          0       0      0            0  ...        0        0   \n",
              "1          0          0       1      1            0  ...        0        0   \n",
              "2          0          0       0      0            0  ...        0        0   \n",
              "3          0          0       0      0            0  ...        0        0   \n",
              "4          0          0       0      1            0  ...        0        0   \n",
              "\n",
              "   News  Romance  Sci-Fi  Short  Sport  Thriller  War  Western  \n",
              "0     0        0       0      1      0         0    0        0  \n",
              "1     0        0       0      0      0         0    0        0  \n",
              "2     0        0       0      0      0         1    0        0  \n",
              "3     0        0       0      0      0         0    0        0  \n",
              "4     0        0       0      0      0         1    0        0  \n",
              "\n",
              "[5 rows x 27 columns]"
            ],
            "text/html": [
              "\n",
              "  <div id=\"df-c29b7714-2876-4924-a9ef-53222ab6278e\">\n",
              "    <div class=\"colab-df-container\">\n",
              "      <div>\n",
              "<style scoped>\n",
              "    .dataframe tbody tr th:only-of-type {\n",
              "        vertical-align: middle;\n",
              "    }\n",
              "\n",
              "    .dataframe tbody tr th {\n",
              "        vertical-align: top;\n",
              "    }\n",
              "\n",
              "    .dataframe thead th {\n",
              "        text-align: right;\n",
              "    }\n",
              "</style>\n",
              "<table border=\"1\" class=\"dataframe\">\n",
              "  <thead>\n",
              "    <tr style=\"text-align: right;\">\n",
              "      <th></th>\n",
              "      <th>plot</th>\n",
              "      <th>genres</th>\n",
              "      <th>preprocessed_plot</th>\n",
              "      <th>Action</th>\n",
              "      <th>Adventure</th>\n",
              "      <th>Animation</th>\n",
              "      <th>Biography</th>\n",
              "      <th>Comedy</th>\n",
              "      <th>Crime</th>\n",
              "      <th>Documentary</th>\n",
              "      <th>...</th>\n",
              "      <th>Musical</th>\n",
              "      <th>Mystery</th>\n",
              "      <th>News</th>\n",
              "      <th>Romance</th>\n",
              "      <th>Sci-Fi</th>\n",
              "      <th>Short</th>\n",
              "      <th>Sport</th>\n",
              "      <th>Thriller</th>\n",
              "      <th>War</th>\n",
              "      <th>Western</th>\n",
              "    </tr>\n",
              "  </thead>\n",
              "  <tbody>\n",
              "    <tr>\n",
              "      <th>0</th>\n",
              "      <td>most is the story of a single father who takes...</td>\n",
              "      <td>Short, Drama</td>\n",
              "      <td>stori singl father take year old son work rail...</td>\n",
              "      <td>0</td>\n",
              "      <td>0</td>\n",
              "      <td>0</td>\n",
              "      <td>0</td>\n",
              "      <td>0</td>\n",
              "      <td>0</td>\n",
              "      <td>0</td>\n",
              "      <td>...</td>\n",
              "      <td>0</td>\n",
              "      <td>0</td>\n",
              "      <td>0</td>\n",
              "      <td>0</td>\n",
              "      <td>0</td>\n",
              "      <td>1</td>\n",
              "      <td>0</td>\n",
              "      <td>0</td>\n",
              "      <td>0</td>\n",
              "      <td>0</td>\n",
              "    </tr>\n",
              "    <tr>\n",
              "      <th>1</th>\n",
              "      <td>a serial killer decides to teach the secrets o...</td>\n",
              "      <td>Comedy, Crime, Horror</td>\n",
              "      <td>serial killer decid teach secret satisfi caree...</td>\n",
              "      <td>0</td>\n",
              "      <td>0</td>\n",
              "      <td>0</td>\n",
              "      <td>0</td>\n",
              "      <td>1</td>\n",
              "      <td>1</td>\n",
              "      <td>0</td>\n",
              "      <td>...</td>\n",
              "      <td>0</td>\n",
              "      <td>0</td>\n",
              "      <td>0</td>\n",
              "      <td>0</td>\n",
              "      <td>0</td>\n",
              "      <td>0</td>\n",
              "      <td>0</td>\n",
              "      <td>0</td>\n",
              "      <td>0</td>\n",
              "      <td>0</td>\n",
              "    </tr>\n",
              "    <tr>\n",
              "      <th>2</th>\n",
              "      <td>in sweden ,  a female blackmailer with a disfi...</td>\n",
              "      <td>Drama, Film-Noir, Thriller</td>\n",
              "      <td>sweden femal blackmail disfigur facial scar me...</td>\n",
              "      <td>0</td>\n",
              "      <td>0</td>\n",
              "      <td>0</td>\n",
              "      <td>0</td>\n",
              "      <td>0</td>\n",
              "      <td>0</td>\n",
              "      <td>0</td>\n",
              "      <td>...</td>\n",
              "      <td>0</td>\n",
              "      <td>0</td>\n",
              "      <td>0</td>\n",
              "      <td>0</td>\n",
              "      <td>0</td>\n",
              "      <td>0</td>\n",
              "      <td>0</td>\n",
              "      <td>1</td>\n",
              "      <td>0</td>\n",
              "      <td>0</td>\n",
              "    </tr>\n",
              "    <tr>\n",
              "      <th>3</th>\n",
              "      <td>in a friday afternoon in new york ,  the presi...</td>\n",
              "      <td>Drama</td>\n",
              "      <td>friday afternoon new york presid tredway corpo...</td>\n",
              "      <td>0</td>\n",
              "      <td>0</td>\n",
              "      <td>0</td>\n",
              "      <td>0</td>\n",
              "      <td>0</td>\n",
              "      <td>0</td>\n",
              "      <td>0</td>\n",
              "      <td>...</td>\n",
              "      <td>0</td>\n",
              "      <td>0</td>\n",
              "      <td>0</td>\n",
              "      <td>0</td>\n",
              "      <td>0</td>\n",
              "      <td>0</td>\n",
              "      <td>0</td>\n",
              "      <td>0</td>\n",
              "      <td>0</td>\n",
              "      <td>0</td>\n",
              "    </tr>\n",
              "    <tr>\n",
              "      <th>4</th>\n",
              "      <td>in los angeles ,  the editor of a publishing h...</td>\n",
              "      <td>Action, Crime, Thriller</td>\n",
              "      <td>los angel editor publish hous carol hunnicut g...</td>\n",
              "      <td>1</td>\n",
              "      <td>0</td>\n",
              "      <td>0</td>\n",
              "      <td>0</td>\n",
              "      <td>0</td>\n",
              "      <td>1</td>\n",
              "      <td>0</td>\n",
              "      <td>...</td>\n",
              "      <td>0</td>\n",
              "      <td>0</td>\n",
              "      <td>0</td>\n",
              "      <td>0</td>\n",
              "      <td>0</td>\n",
              "      <td>0</td>\n",
              "      <td>0</td>\n",
              "      <td>1</td>\n",
              "      <td>0</td>\n",
              "      <td>0</td>\n",
              "    </tr>\n",
              "  </tbody>\n",
              "</table>\n",
              "<p>5 rows × 27 columns</p>\n",
              "</div>\n",
              "      <button class=\"colab-df-convert\" onclick=\"convertToInteractive('df-c29b7714-2876-4924-a9ef-53222ab6278e')\"\n",
              "              title=\"Convert this dataframe to an interactive table.\"\n",
              "              style=\"display:none;\">\n",
              "        \n",
              "  <svg xmlns=\"http://www.w3.org/2000/svg\" height=\"24px\"viewBox=\"0 0 24 24\"\n",
              "       width=\"24px\">\n",
              "    <path d=\"M0 0h24v24H0V0z\" fill=\"none\"/>\n",
              "    <path d=\"M18.56 5.44l.94 2.06.94-2.06 2.06-.94-2.06-.94-.94-2.06-.94 2.06-2.06.94zm-11 1L8.5 8.5l.94-2.06 2.06-.94-2.06-.94L8.5 2.5l-.94 2.06-2.06.94zm10 10l.94 2.06.94-2.06 2.06-.94-2.06-.94-.94-2.06-.94 2.06-2.06.94z\"/><path d=\"M17.41 7.96l-1.37-1.37c-.4-.4-.92-.59-1.43-.59-.52 0-1.04.2-1.43.59L10.3 9.45l-7.72 7.72c-.78.78-.78 2.05 0 2.83L4 21.41c.39.39.9.59 1.41.59.51 0 1.02-.2 1.41-.59l7.78-7.78 2.81-2.81c.8-.78.8-2.07 0-2.86zM5.41 20L4 18.59l7.72-7.72 1.47 1.35L5.41 20z\"/>\n",
              "  </svg>\n",
              "      </button>\n",
              "      \n",
              "  <style>\n",
              "    .colab-df-container {\n",
              "      display:flex;\n",
              "      flex-wrap:wrap;\n",
              "      gap: 12px;\n",
              "    }\n",
              "\n",
              "    .colab-df-convert {\n",
              "      background-color: #E8F0FE;\n",
              "      border: none;\n",
              "      border-radius: 50%;\n",
              "      cursor: pointer;\n",
              "      display: none;\n",
              "      fill: #1967D2;\n",
              "      height: 32px;\n",
              "      padding: 0 0 0 0;\n",
              "      width: 32px;\n",
              "    }\n",
              "\n",
              "    .colab-df-convert:hover {\n",
              "      background-color: #E2EBFA;\n",
              "      box-shadow: 0px 1px 2px rgba(60, 64, 67, 0.3), 0px 1px 3px 1px rgba(60, 64, 67, 0.15);\n",
              "      fill: #174EA6;\n",
              "    }\n",
              "\n",
              "    [theme=dark] .colab-df-convert {\n",
              "      background-color: #3B4455;\n",
              "      fill: #D2E3FC;\n",
              "    }\n",
              "\n",
              "    [theme=dark] .colab-df-convert:hover {\n",
              "      background-color: #434B5C;\n",
              "      box-shadow: 0px 1px 3px 1px rgba(0, 0, 0, 0.15);\n",
              "      filter: drop-shadow(0px 1px 2px rgba(0, 0, 0, 0.3));\n",
              "      fill: #FFFFFF;\n",
              "    }\n",
              "  </style>\n",
              "\n",
              "      <script>\n",
              "        const buttonEl =\n",
              "          document.querySelector('#df-c29b7714-2876-4924-a9ef-53222ab6278e button.colab-df-convert');\n",
              "        buttonEl.style.display =\n",
              "          google.colab.kernel.accessAllowed ? 'block' : 'none';\n",
              "\n",
              "        async function convertToInteractive(key) {\n",
              "          const element = document.querySelector('#df-c29b7714-2876-4924-a9ef-53222ab6278e');\n",
              "          const dataTable =\n",
              "            await google.colab.kernel.invokeFunction('convertToInteractive',\n",
              "                                                     [key], {});\n",
              "          if (!dataTable) return;\n",
              "\n",
              "          const docLinkHtml = 'Like what you see? Visit the ' +\n",
              "            '<a target=\"_blank\" href=https://colab.research.google.com/notebooks/data_table.ipynb>data table notebook</a>'\n",
              "            + ' to learn more about interactive tables.';\n",
              "          element.innerHTML = '';\n",
              "          dataTable['output_type'] = 'display_data';\n",
              "          await google.colab.output.renderOutput(dataTable, element);\n",
              "          const docLink = document.createElement('div');\n",
              "          docLink.innerHTML = docLinkHtml;\n",
              "          element.appendChild(docLink);\n",
              "        }\n",
              "      </script>\n",
              "    </div>\n",
              "  </div>\n",
              "  "
            ]
          },
          "metadata": {},
          "execution_count": 13
        }
      ],
      "source": [
        "genres_df = dt['genres'].str.get_dummies(sep=', ')\n",
        "data = dt.drop(['genres','preprocessed_plot'], axis=1)\n",
        "data = pd.concat([dt, genres_df], axis=1)\n",
        "data.head()"
      ]
    },
    {
      "cell_type": "markdown",
      "metadata": {
        "id": "lyizRZEU6k4E"
      },
      "source": [
        "# Embedding de la variable plot con limpieza de tokens"
      ]
    },
    {
      "cell_type": "code",
      "execution_count": null,
      "metadata": {
        "colab": {
          "base_uri": "https://localhost:8080/",
          "height": 93
        },
        "id": "XY5Cqp16wCkW",
        "outputId": "031302bd-7bb5-4c02-9ad9-cfb6d2bed31d"
      },
      "outputs": [
        {
          "output_type": "display_data",
          "data": {
            "text/plain": [
              "TfidfVectorizer(max_df=0.95, min_df=0.03, sublinear_tf=True)"
            ],
            "text/html": [
              "<style>#sk-container-id-1 {color: black;background-color: white;}#sk-container-id-1 pre{padding: 0;}#sk-container-id-1 div.sk-toggleable {background-color: white;}#sk-container-id-1 label.sk-toggleable__label {cursor: pointer;display: block;width: 100%;margin-bottom: 0;padding: 0.3em;box-sizing: border-box;text-align: center;}#sk-container-id-1 label.sk-toggleable__label-arrow:before {content: \"▸\";float: left;margin-right: 0.25em;color: #696969;}#sk-container-id-1 label.sk-toggleable__label-arrow:hover:before {color: black;}#sk-container-id-1 div.sk-estimator:hover label.sk-toggleable__label-arrow:before {color: black;}#sk-container-id-1 div.sk-toggleable__content {max-height: 0;max-width: 0;overflow: hidden;text-align: left;background-color: #f0f8ff;}#sk-container-id-1 div.sk-toggleable__content pre {margin: 0.2em;color: black;border-radius: 0.25em;background-color: #f0f8ff;}#sk-container-id-1 input.sk-toggleable__control:checked~div.sk-toggleable__content {max-height: 200px;max-width: 100%;overflow: auto;}#sk-container-id-1 input.sk-toggleable__control:checked~label.sk-toggleable__label-arrow:before {content: \"▾\";}#sk-container-id-1 div.sk-estimator input.sk-toggleable__control:checked~label.sk-toggleable__label {background-color: #d4ebff;}#sk-container-id-1 div.sk-label input.sk-toggleable__control:checked~label.sk-toggleable__label {background-color: #d4ebff;}#sk-container-id-1 input.sk-hidden--visually {border: 0;clip: rect(1px 1px 1px 1px);clip: rect(1px, 1px, 1px, 1px);height: 1px;margin: -1px;overflow: hidden;padding: 0;position: absolute;width: 1px;}#sk-container-id-1 div.sk-estimator {font-family: monospace;background-color: #f0f8ff;border: 1px dotted black;border-radius: 0.25em;box-sizing: border-box;margin-bottom: 0.5em;}#sk-container-id-1 div.sk-estimator:hover {background-color: #d4ebff;}#sk-container-id-1 div.sk-parallel-item::after {content: \"\";width: 100%;border-bottom: 1px solid gray;flex-grow: 1;}#sk-container-id-1 div.sk-label:hover label.sk-toggleable__label {background-color: #d4ebff;}#sk-container-id-1 div.sk-serial::before {content: \"\";position: absolute;border-left: 1px solid gray;box-sizing: border-box;top: 0;bottom: 0;left: 50%;z-index: 0;}#sk-container-id-1 div.sk-serial {display: flex;flex-direction: column;align-items: center;background-color: white;padding-right: 0.2em;padding-left: 0.2em;position: relative;}#sk-container-id-1 div.sk-item {position: relative;z-index: 1;}#sk-container-id-1 div.sk-parallel {display: flex;align-items: stretch;justify-content: center;background-color: white;position: relative;}#sk-container-id-1 div.sk-item::before, #sk-container-id-1 div.sk-parallel-item::before {content: \"\";position: absolute;border-left: 1px solid gray;box-sizing: border-box;top: 0;bottom: 0;left: 50%;z-index: -1;}#sk-container-id-1 div.sk-parallel-item {display: flex;flex-direction: column;z-index: 1;position: relative;background-color: white;}#sk-container-id-1 div.sk-parallel-item:first-child::after {align-self: flex-end;width: 50%;}#sk-container-id-1 div.sk-parallel-item:last-child::after {align-self: flex-start;width: 50%;}#sk-container-id-1 div.sk-parallel-item:only-child::after {width: 0;}#sk-container-id-1 div.sk-dashed-wrapped {border: 1px dashed gray;margin: 0 0.4em 0.5em 0.4em;box-sizing: border-box;padding-bottom: 0.4em;background-color: white;}#sk-container-id-1 div.sk-label label {font-family: monospace;font-weight: bold;display: inline-block;line-height: 1.2em;}#sk-container-id-1 div.sk-label-container {text-align: center;}#sk-container-id-1 div.sk-container {/* jupyter's `normalize.less` sets `[hidden] { display: none; }` but bootstrap.min.css set `[hidden] { display: none !important; }` so we also need the `!important` here to be able to override the default hidden behavior on the sphinx rendered scikit-learn.org. See: https://github.com/scikit-learn/scikit-learn/issues/21755 */display: inline-block !important;position: relative;}#sk-container-id-1 div.sk-text-repr-fallback {display: none;}</style><div id=\"sk-container-id-1\" class=\"sk-top-container\"><div class=\"sk-text-repr-fallback\"><pre>TfidfVectorizer(max_df=0.95, min_df=0.03, sublinear_tf=True)</pre><b>In a Jupyter environment, please rerun this cell to show the HTML representation or trust the notebook. <br />On GitHub, the HTML representation is unable to render, please try loading this page with nbviewer.org.</b></div><div class=\"sk-container\" hidden><div class=\"sk-item\"><div class=\"sk-estimator sk-toggleable\"><input class=\"sk-toggleable__control sk-hidden--visually\" id=\"sk-estimator-id-1\" type=\"checkbox\" checked><label for=\"sk-estimator-id-1\" class=\"sk-toggleable__label sk-toggleable__label-arrow\">TfidfVectorizer</label><div class=\"sk-toggleable__content\"><pre>TfidfVectorizer(max_df=0.95, min_df=0.03, sublinear_tf=True)</pre></div></div></div></div></div>"
            ]
          },
          "metadata": {}
        },
        {
          "output_type": "display_data",
          "data": {
            "text/plain": [
              "(7895, 280)"
            ]
          },
          "metadata": {}
        }
      ],
      "source": [
        "vect = TfidfVectorizer(sublinear_tf=True, max_df=0.95, min_df=0.03).fit(dt.preprocessed_plot)\n",
        "display(vect)\n",
        "\n",
        "features = vect.transform(dt.preprocessed_plot).toarray()\n",
        "display(features.shape)\n"
      ]
    },
    {
      "cell_type": "code",
      "source": [
        "emb=[]\n",
        "target=[]\n",
        "for i in range(data.shape[0]):\n",
        "  for j in data.genres[i].split(', '):\n",
        "    if j!=\"News\":\n",
        "      emb.append(features[i])\n",
        "      target.append(j)\n",
        "emb=np.array(emb)\n",
        "target=np.array(target)"
      ],
      "metadata": {
        "id": "u6AcK7VDWRb-"
      },
      "execution_count": null,
      "outputs": []
    },
    {
      "cell_type": "markdown",
      "source": [
        "# Generación de pesos de las clases según su frecuencia"
      ],
      "metadata": {
        "id": "iAexaJfCkH_S"
      }
    },
    {
      "cell_type": "code",
      "execution_count": null,
      "metadata": {
        "colab": {
          "base_uri": "https://localhost:8080/"
        },
        "id": "hbxGmhdtIC1k",
        "outputId": "b02d0778-7dbf-4cb9-ff2d-1c134b82dcd0"
      },
      "outputs": [
        {
          "output_type": "execute_result",
          "data": {
            "text/plain": [
              "{'Action': 0.7197103673796256,\n",
              " 'Adventure': 0.9158033288043478,\n",
              " 'Animation': 3.60685618729097,\n",
              " 'Biography': 2.5141624898006762,\n",
              " 'Comedy': 0.3078734762625253,\n",
              " 'Crime': 0.6480874973708722,\n",
              " 'Documentary': 2.2381446508249456,\n",
              " 'Drama': 0.23651515982235868,\n",
              " 'Family': 1.3750478133367334,\n",
              " 'Fantasy': 1.3264251891027612,\n",
              " 'Film-Noir': 5.58203933747412,\n",
              " 'History': 3.4351011307533046,\n",
              " 'Horror': 0.983000638045757,\n",
              " 'Music': 2.750095626673467,\n",
              " 'Musical': 3.4604524306112627,\n",
              " 'Mystery': 1.2355502090851807,\n",
              " 'Romance': 0.4956567699237062,\n",
              " 'Sci-Fi': 1.2970713813217873,\n",
              " 'Short': 10.193289224952741,\n",
              " 'Sport': 3.5930368149258705,\n",
              " 'Thriller': 0.4633313284069428,\n",
              " 'War': 2.694777611194403,\n",
              " 'Western': 3.9568886442854523}"
            ]
          },
          "metadata": {},
          "execution_count": 17
        }
      ],
      "source": [
        "from sklearn.utils import class_weight\n",
        "classes_weights = class_weight.compute_class_weight(\n",
        "    class_weight='balanced',\n",
        "    classes=np.unique(target),\n",
        "    y=target)\n",
        "dict(zip(np.unique(target),classes_weights))"
      ]
    },
    {
      "cell_type": "code",
      "execution_count": null,
      "metadata": {
        "id": "7Mo3glv4p3TJ"
      },
      "outputs": [],
      "source": [
        "target=pd.get_dummies(target)\n",
        "gen=target.columns\n",
        "target=target.to_numpy()"
      ]
    },
    {
      "cell_type": "markdown",
      "source": [
        "# Separación en Base de datos en Entrenamiento, Validación y de Testeo"
      ],
      "metadata": {
        "id": "aropwPNHklL7"
      }
    },
    {
      "cell_type": "code",
      "execution_count": null,
      "metadata": {
        "id": "h7NCYqhtbhxu"
      },
      "outputs": [],
      "source": [
        "#X_train, X_test, y_train, y_test = train_test_split( emb, target, test_size=0.15, random_state=42,stratify=target)\n",
        "X_train, X_test, y_train, y_test = train_test_split( features, genres_df.drop([\"News\"],axis=1).to_numpy(), test_size=0.15, random_state=42)#,stratify=genres_df.drop([\"News\"],axis=1).to_numpy())"
      ]
    },
    {
      "cell_type": "code",
      "execution_count": null,
      "metadata": {
        "id": "v4UNmqDQgC1j"
      },
      "outputs": [],
      "source": [
        "#X_Train, X_val, y_Train, y_val = train_test_split(X_train, y_train, test_size=0.15, random_state=42,stratify=y_train)\n",
        "X_Train, X_val, y_Train, y_val = train_test_split(X_train, y_train, test_size=0.15, random_state=42)#,stratify=y_train)"
      ]
    },
    {
      "cell_type": "code",
      "execution_count": null,
      "metadata": {
        "colab": {
          "base_uri": "https://localhost:8080/"
        },
        "id": "wPZcULvTfqcY",
        "outputId": "12eb62fa-d92a-43f6-85fe-612017332dc2"
      },
      "outputs": [
        {
          "output_type": "stream",
          "name": "stdout",
          "text": [
            "(5703, 23) (1007, 23) (1185, 23)\n"
          ]
        }
      ],
      "source": [
        "print(y_Train.shape,y_val.shape,y_test.shape)"
      ]
    },
    {
      "cell_type": "code",
      "execution_count": null,
      "metadata": {
        "colab": {
          "base_uri": "https://localhost:8080/"
        },
        "id": "DqzckGBSlyIX",
        "outputId": "6dc67437-e44e-445f-904c-6e5566c141c9"
      },
      "outputs": [
        {
          "output_type": "stream",
          "name": "stdout",
          "text": [
            "(5703, 280) (1007, 280) (1185, 280)\n"
          ]
        }
      ],
      "source": [
        "print(X_Train.shape,X_val.shape,X_test.shape)"
      ]
    },
    {
      "cell_type": "markdown",
      "source": [
        "# Configuración y cargue de librerías de Deep Learning"
      ],
      "metadata": {
        "id": "14LrRZLGkvfB"
      }
    },
    {
      "cell_type": "code",
      "execution_count": null,
      "metadata": {
        "colab": {
          "base_uri": "https://localhost:8080/"
        },
        "id": "JqE81BxUfuMo",
        "outputId": "593b4641-36d1-4156-dcf6-4ee498112720"
      },
      "outputs": [
        {
          "output_type": "stream",
          "name": "stdout",
          "text": [
            "Collecting keras-tuner\n",
            "  Downloading keras_tuner-1.3.5-py3-none-any.whl (176 kB)\n",
            "\u001b[?25l     \u001b[90m━━━━━━━━━━━━━━━━━━━━━━━━━━━━━━━━━━━━━━━━\u001b[0m \u001b[32m0.0/176.1 kB\u001b[0m \u001b[31m?\u001b[0m eta \u001b[36m-:--:--\u001b[0m\r\u001b[2K     \u001b[90m━━━━━━━━━━━━━━━━━━━━━━━━━━━━━━━━━━━━━━━\u001b[0m \u001b[32m176.1/176.1 kB\u001b[0m \u001b[31m8.4 MB/s\u001b[0m eta \u001b[36m0:00:00\u001b[0m\n",
            "\u001b[?25hRequirement already satisfied: packaging in /usr/local/lib/python3.10/dist-packages (from keras-tuner) (23.1)\n",
            "Requirement already satisfied: requests in /usr/local/lib/python3.10/dist-packages (from keras-tuner) (2.27.1)\n",
            "Collecting kt-legacy (from keras-tuner)\n",
            "  Downloading kt_legacy-1.0.5-py3-none-any.whl (9.6 kB)\n",
            "Requirement already satisfied: urllib3<1.27,>=1.21.1 in /usr/local/lib/python3.10/dist-packages (from requests->keras-tuner) (1.26.16)\n",
            "Requirement already satisfied: certifi>=2017.4.17 in /usr/local/lib/python3.10/dist-packages (from requests->keras-tuner) (2023.5.7)\n",
            "Requirement already satisfied: charset-normalizer~=2.0.0 in /usr/local/lib/python3.10/dist-packages (from requests->keras-tuner) (2.0.12)\n",
            "Requirement already satisfied: idna<4,>=2.5 in /usr/local/lib/python3.10/dist-packages (from requests->keras-tuner) (3.4)\n",
            "Installing collected packages: kt-legacy, keras-tuner\n",
            "Successfully installed keras-tuner-1.3.5 kt-legacy-1.0.5\n"
          ]
        }
      ],
      "source": [
        "import locale\n",
        "def getpreferredencoding(do_setlocale = True):\n",
        "    return \"UTF-8\"\n",
        "locale.getpreferredencoding = getpreferredencoding\n",
        "!pip install keras-tuner --upgrade"
      ]
    },
    {
      "cell_type": "code",
      "execution_count": null,
      "metadata": {
        "id": "5fz-SiVZfxtb"
      },
      "outputs": [],
      "source": [
        "import tensorflow as tf\n",
        "from tensorflow import keras\n",
        "from tensorflow.keras.models import Sequential\n",
        "from tensorflow.keras.layers import Dense, Dropout\n",
        "from tensorflow.keras.optimizers import Adam\n",
        "from tensorflow.keras.metrics import SparseCategoricalAccuracy\n",
        "from keras_tuner import HyperModel, RandomSearch\n",
        "import keras_tuner"
      ]
    },
    {
      "cell_type": "code",
      "execution_count": null,
      "metadata": {
        "id": "Q5qH9ewMf0lK"
      },
      "outputs": [],
      "source": [
        "batch_size=X_Train.shape[0]//64\n",
        "train_dataset =tf.data.Dataset.from_tensor_slices((X_Train, y_Train)).shuffle(len(X_Train))\n",
        "train_dataset = train_dataset.shuffle(len(X_Train)).batch(batch_size, drop_remainder=True)\n",
        "\n",
        "val_dataset = tf.data.Dataset.from_tensor_slices((X_val, y_val))\n",
        "val_dataset = val_dataset.batch(batch_size, drop_remainder=True)\n",
        "\n",
        "test_dataset = tf.data.Dataset.from_tensor_slices((X_test, y_test))\n",
        "test_dataset = test_dataset.batch(batch_size, drop_remainder=True)"
      ]
    },
    {
      "cell_type": "markdown",
      "source": [
        "# Definición de función de perdida acorde a un problema de clasificación desbalanceado"
      ],
      "metadata": {
        "id": "aL9Petrjk7wP"
      }
    },
    {
      "cell_type": "code",
      "execution_count": null,
      "metadata": {
        "id": "I4uCnZCihnMR"
      },
      "outputs": [],
      "source": [
        "class WeightedCrossEntropy(tf.keras.losses.Loss):\n",
        "  def __init__(self, weight, epsilon=1e-7, name=\"weighted_cross_entropy\", **kwargs):\n",
        "    super().__init__(name=name, **kwargs)\n",
        "    self.weight = weight\n",
        "    self.epsilon = epsilon\n",
        "\n",
        "  def call(self, y_true, y_pred):\n",
        "    y_pred = tf.clip_by_value(y_pred, self.epsilon, 1 - self.epsilon)\n",
        "    y_true=tf.cast(y_true, tf.float32)\n",
        "    loss = -(self.weight * y_true * tf.math.log(y_pred) + (1 - y_true) * tf.math.log(1 - y_pred))\n",
        "    return tf.math.reduce_mean(loss)\n",
        "\n",
        "  def get_config(self):\n",
        "    config = {\n",
        "      'weight': self.weight,\n",
        "      'epsilon': self.epsilon\n",
        "      }\n",
        "    base_config = super().get_config()\n",
        "    return {**base_config, **config}"
      ]
    },
    {
      "cell_type": "markdown",
      "source": [
        "# Arquitectura de la red neuronal"
      ],
      "metadata": {
        "id": "F-auMk_slLEI"
      }
    },
    {
      "cell_type": "code",
      "execution_count": null,
      "metadata": {
        "id": "SUqG4piyibN0"
      },
      "outputs": [],
      "source": [
        "loss_fn = WeightedCrossEntropy(weight=classes_weights)\n",
        "\n",
        "def build_model(hp):\n",
        "    model = keras.Sequential()\n",
        "    model.add(Dense(units=hp.Int('units1', min_value=128, max_value=512, step=8),\n",
        "                    activation=hp.Choice('activation', values=['relu']), input_shape=(None,X_Train.shape[1])))\n",
        "    model.add(Dropout(hp.Choice('drop1', values=[0.05, 0.1 , 0.15, 0.2 , 0.25, 0.3 , 0.35, 0.4 , 0.45])))\n",
        "    #model.add(Dense(units=hp.Int('units2', min_value=1, max_value=256, step=16),activation='relu'))\n",
        "    #model.add(Dropout(hp.Choice('drop2', values=[0.1,0.2,0.3,0.4,0.5,0.6])))\n",
        "    model.add(Dense(23, activation='sigmoid'))\n",
        "    model.compile(optimizer=Adam(hp.Choice('learning_rate', values=[1e-2, 1e-3, 1e-4])),\n",
        "                  loss=loss_fn,\n",
        "                  metrics=[\"accuracy\"])\n",
        "    return model"
      ]
    },
    {
      "cell_type": "code",
      "execution_count": null,
      "metadata": {
        "colab": {
          "base_uri": "https://localhost:8080/"
        },
        "id": "xjkT-j4Aigpt",
        "outputId": "5511d14f-23ff-49a7-ffd2-f735c0b16c6c"
      },
      "outputs": [
        {
          "output_type": "stream",
          "name": "stdout",
          "text": [
            "Model: \"sequential_2\"\n",
            "_________________________________________________________________\n",
            " Layer (type)                Output Shape              Param #   \n",
            "=================================================================\n",
            " dense_4 (Dense)             (None, None, 128)         35968     \n",
            "                                                                 \n",
            " dropout_2 (Dropout)         (None, None, 128)         0         \n",
            "                                                                 \n",
            " dense_5 (Dense)             (None, None, 23)          2967      \n",
            "                                                                 \n",
            "=================================================================\n",
            "Total params: 38,935\n",
            "Trainable params: 38,935\n",
            "Non-trainable params: 0\n",
            "_________________________________________________________________\n"
          ]
        }
      ],
      "source": [
        "nn = build_model(keras_tuner.HyperParameters())\n",
        "nn.summary()"
      ]
    },
    {
      "cell_type": "markdown",
      "source": [
        "# Búsqueda de hiperparámetros con Keras Tuner"
      ],
      "metadata": {
        "id": "nwGHVWyQlSnA"
      }
    },
    {
      "cell_type": "code",
      "execution_count": null,
      "metadata": {
        "id": "ojMyJhvjij6O"
      },
      "outputs": [],
      "source": [
        "tuner = keras_tuner.RandomSearch(\n",
        "    hypermodel=build_model,\n",
        "    objective=\"val_accuracy\",\n",
        "    max_trials=3,\n",
        "    executions_per_trial=2,\n",
        "    overwrite=True,\n",
        "    directory=\"\",\n",
        "    project_name=\"movie\",\n",
        ")"
      ]
    },
    {
      "cell_type": "code",
      "execution_count": null,
      "metadata": {
        "colab": {
          "base_uri": "https://localhost:8080/"
        },
        "id": "A5ZinotGinMB",
        "outputId": "83d5a6ed-8ce2-409c-d6b4-56d02fe50bbe"
      },
      "outputs": [
        {
          "output_type": "stream",
          "name": "stdout",
          "text": [
            "Search space summary\n",
            "Default search space size: 4\n",
            "units1 (Int)\n",
            "{'default': None, 'conditions': [], 'min_value': 128, 'max_value': 512, 'step': 8, 'sampling': 'linear'}\n",
            "activation (Choice)\n",
            "{'default': 'relu', 'conditions': [], 'values': ['relu'], 'ordered': False}\n",
            "drop1 (Choice)\n",
            "{'default': 0.05, 'conditions': [], 'values': [0.05, 0.1, 0.15, 0.2, 0.25, 0.3, 0.35, 0.4, 0.45], 'ordered': True}\n",
            "learning_rate (Choice)\n",
            "{'default': 0.01, 'conditions': [], 'values': [0.01, 0.001, 0.0001], 'ordered': True}\n"
          ]
        }
      ],
      "source": [
        "tuner.search_space_summary()"
      ]
    },
    {
      "cell_type": "code",
      "execution_count": null,
      "metadata": {
        "colab": {
          "base_uri": "https://localhost:8080/"
        },
        "id": "_OwhXHQCivN8",
        "outputId": "cf488b1b-a340-475b-8666-cc1bfe3f61b9"
      },
      "outputs": [
        {
          "output_type": "stream",
          "name": "stdout",
          "text": [
            "Trial 3 Complete [00h 00m 15s]\n",
            "val_accuracy: 0.28345251083374023\n",
            "\n",
            "Best val_accuracy So Far: 0.28345251083374023\n",
            "Total elapsed time: 00h 00m 33s\n"
          ]
        }
      ],
      "source": [
        "tuner.search(train_dataset, epochs=200,validation_data=val_dataset,\n",
        "             callbacks=[tf.keras.callbacks.EarlyStopping(monitor='val_loss', patience=5,mode=\"min\")])"
      ]
    },
    {
      "cell_type": "markdown",
      "source": [
        "# Mejores hiperparámetros"
      ],
      "metadata": {
        "id": "ki_A_-gWlcrU"
      }
    },
    {
      "cell_type": "code",
      "execution_count": null,
      "metadata": {
        "colab": {
          "base_uri": "https://localhost:8080/"
        },
        "id": "36r0bsXwiy3h",
        "outputId": "06466367-d6d1-4d39-915b-454f8d426cb1"
      },
      "outputs": [
        {
          "output_type": "execute_result",
          "data": {
            "text/plain": [
              "{'units1': 328, 'activation': 'relu', 'drop1': 0.3, 'learning_rate': 0.001}"
            ]
          },
          "metadata": {},
          "execution_count": 57
        }
      ],
      "source": [
        "best_hps = tuner.get_best_hyperparameters(1)[0]\n",
        "best_hps.values"
      ]
    },
    {
      "cell_type": "markdown",
      "source": [
        "# Entrenamiento de modelo con los mejores hiperparámetros"
      ],
      "metadata": {
        "id": "izsjhqrQlrp5"
      }
    },
    {
      "cell_type": "code",
      "execution_count": null,
      "metadata": {
        "colab": {
          "base_uri": "https://localhost:8080/"
        },
        "id": "9cJ_to6Si2fG",
        "outputId": "eda5fd1f-463d-4b61-f327-4d2887614598"
      },
      "outputs": [
        {
          "output_type": "stream",
          "name": "stdout",
          "text": [
            "Model: \"sequential_1\"\n",
            "_________________________________________________________________\n",
            " Layer (type)                Output Shape              Param #   \n",
            "=================================================================\n",
            " dense_2 (Dense)             (None, None, 328)         92168     \n",
            "                                                                 \n",
            " dropout_1 (Dropout)         (None, None, 328)         0         \n",
            "                                                                 \n",
            " dense_3 (Dense)             (None, None, 23)          7567      \n",
            "                                                                 \n",
            "=================================================================\n",
            "Total params: 99,735\n",
            "Trainable params: 99,735\n",
            "Non-trainable params: 0\n",
            "_________________________________________________________________\n"
          ]
        }
      ],
      "source": [
        "cnn = build_model(best_hps)\n",
        "cnn.summary()"
      ]
    },
    {
      "cell_type": "code",
      "execution_count": null,
      "metadata": {
        "colab": {
          "base_uri": "https://localhost:8080/"
        },
        "id": "lsABjXaci6AA",
        "outputId": "917b787a-04d4-4432-b1b7-b3e764d3af4a"
      },
      "outputs": [
        {
          "output_type": "stream",
          "name": "stdout",
          "text": [
            "Epoch 1/200\n",
            "64/64 [==============================] - 1s 5ms/step - loss: 0.4776 - accuracy: 0.1127 - val_loss: 0.3555 - val_accuracy: 0.2094\n",
            "Epoch 2/200\n",
            "64/64 [==============================] - 0s 4ms/step - loss: 0.3561 - accuracy: 0.2082 - val_loss: 0.3431 - val_accuracy: 0.2227\n",
            "Epoch 3/200\n",
            "64/64 [==============================] - 0s 4ms/step - loss: 0.3396 - accuracy: 0.2268 - val_loss: 0.3276 - val_accuracy: 0.2411\n",
            "Epoch 4/200\n",
            "64/64 [==============================] - 0s 4ms/step - loss: 0.3175 - accuracy: 0.2507 - val_loss: 0.3096 - val_accuracy: 0.2513\n",
            "Epoch 5/200\n",
            "64/64 [==============================] - 0s 4ms/step - loss: 0.2967 - accuracy: 0.2635 - val_loss: 0.2967 - val_accuracy: 0.2635\n",
            "Epoch 6/200\n",
            "64/64 [==============================] - 0s 4ms/step - loss: 0.2820 - accuracy: 0.2621 - val_loss: 0.2877 - val_accuracy: 0.2533\n",
            "Epoch 7/200\n",
            "64/64 [==============================] - 0s 3ms/step - loss: 0.2710 - accuracy: 0.2547 - val_loss: 0.2837 - val_accuracy: 0.2349\n",
            "Epoch 8/200\n",
            "64/64 [==============================] - 0s 3ms/step - loss: 0.2635 - accuracy: 0.2691 - val_loss: 0.2815 - val_accuracy: 0.2329\n",
            "Epoch 9/200\n",
            "64/64 [==============================] - 0s 4ms/step - loss: 0.2578 - accuracy: 0.2593 - val_loss: 0.2803 - val_accuracy: 0.2380\n",
            "Epoch 10/200\n",
            "64/64 [==============================] - 0s 3ms/step - loss: 0.2527 - accuracy: 0.2605 - val_loss: 0.2787 - val_accuracy: 0.2247\n",
            "Epoch 11/200\n",
            "64/64 [==============================] - 0s 3ms/step - loss: 0.2485 - accuracy: 0.2632 - val_loss: 0.2792 - val_accuracy: 0.2176\n",
            "Epoch 12/200\n",
            "64/64 [==============================] - 0s 4ms/step - loss: 0.2454 - accuracy: 0.2544 - val_loss: 0.2801 - val_accuracy: 0.2503\n",
            "Epoch 13/200\n",
            "64/64 [==============================] - 0s 3ms/step - loss: 0.2419 - accuracy: 0.2621 - val_loss: 0.2800 - val_accuracy: 0.2329\n",
            "Epoch 14/200\n",
            "64/64 [==============================] - 0s 3ms/step - loss: 0.2382 - accuracy: 0.2597 - val_loss: 0.2812 - val_accuracy: 0.2237\n",
            "Epoch 15/200\n",
            "64/64 [==============================] - 0s 5ms/step - loss: 0.2357 - accuracy: 0.2575 - val_loss: 0.2815 - val_accuracy: 0.2329\n"
          ]
        }
      ],
      "source": [
        "stopping = tf.keras.callbacks.EarlyStopping(\n",
        "                monitor='val_loss',            # La métrica que se va a monitorear.\n",
        "                patience=5,              # Si después de 50 epochs la métrica no mejora, se detiene el entrenamiento.\n",
        "                mode=\"min\",               # Se quiere guardar el modelo que reporte el accuracy máximo: max.\n",
        "                restore_best_weights=True # Si True, automaticamente se cargan al modelo los mejores pesos.\n",
        "            )\n",
        "checkpoint = tf.keras.callbacks.ModelCheckpoint(\n",
        "                  filepath='best_weights.h5', # Path del archivo donde se guardarán los pesos o el modelo.\n",
        "                  monitor='val_accuracy',              # La métrica que se va a monitorear.\n",
        "                  mode=\"max\",                 # Se quiere guardar el modelo que reporte el accuracy máximo: max.\n",
        "                  save_best_only=True,        # Si se define True, entonces solo se guarda el mejor modelo.\n",
        "                  save_weights_only=False      # Si se define True, solo se guardan los pesos, no la arquitectura.\n",
        "              )\n",
        "hist = cnn.fit(train_dataset, epochs=200,\n",
        "                 batch_size=batch_size,\n",
        "                validation_data=val_dataset,\n",
        "                 callbacks=[checkpoint, stopping])"
      ]
    },
    {
      "cell_type": "markdown",
      "source": [
        "# Evaluación de la función de perdida y el accuracy"
      ],
      "metadata": {
        "id": "yBfqlj95l0zB"
      }
    },
    {
      "cell_type": "code",
      "execution_count": null,
      "metadata": {
        "colab": {
          "base_uri": "https://localhost:8080/",
          "height": 513
        },
        "id": "MIBcqds3qaO6",
        "outputId": "03e447cf-719d-41fe-bab6-05077ab2f3ab"
      },
      "outputs": [
        {
          "output_type": "execute_result",
          "data": {
            "text/plain": [
              "<matplotlib.legend.Legend at 0x7fd084979a80>"
            ]
          },
          "metadata": {},
          "execution_count": 60
        },
        {
          "output_type": "display_data",
          "data": {
            "text/plain": [
              "<Figure size 1000x500 with 2 Axes>"
            ],
            "image/png": "[encoded data removed]"
          },
          "metadata": {}
        }
      ],
      "source": [
        "plt.figure(figsize=(10,5))\n",
        "plt.subplot(121)\n",
        "plt.plot(hist.history[\"loss\"], label=\"entrenamiento\")\n",
        "plt.plot(hist.history[\"val_loss\"], label=\"validación\")\n",
        "plt.title(\"Pérdida\"); plt.xlabel(\"Época\"); plt.legend()\n",
        "plt.subplot(122)\n",
        "plt.plot(hist.history[\"accuracy\"], label=\"entrenamiento\")\n",
        "plt.plot(hist.history[\"val_accuracy\"], label=\"validación\")\n",
        "plt.title(\"Accuracy\"); plt.xlabel(\"Época\"); plt.legend()"
      ]
    },
    {
      "cell_type": "markdown",
      "source": [
        "# Evaluación ROC AUC"
      ],
      "metadata": {
        "id": "U9rSRmjll9uk"
      }
    },
    {
      "cell_type": "code",
      "execution_count": null,
      "metadata": {
        "colab": {
          "base_uri": "https://localhost:8080/"
        },
        "id": "rllWkU_ejURO",
        "outputId": "604e201f-fd5c-4dd3-a5e8-d10211df4286"
      },
      "outputs": [
        {
          "output_type": "stream",
          "name": "stdout",
          "text": [
            "38/38 [==============================] - 0s 2ms/step\n"
          ]
        },
        {
          "output_type": "execute_result",
          "data": {
            "text/plain": [
              "0.8062781544975975"
            ]
          },
          "metadata": {},
          "execution_count": 61
        }
      ],
      "source": [
        "from sklearn.metrics import roc_auc_score\n",
        "roc_auc_score(y_test, cnn.predict(X_test), average=\"macro\",multi_class='ovr')"
      ]
    },
    {
      "cell_type": "markdown",
      "source": [
        "# Reporte de Clasificación"
      ],
      "metadata": {
        "id": "bzbCegeXnr1f"
      }
    },
    {
      "cell_type": "code",
      "execution_count": null,
      "metadata": {
        "colab": {
          "base_uri": "https://localhost:8080/"
        },
        "id": "Uzu4HVT_TrHl",
        "outputId": "6e55bc0a-e2e8-49e6-995e-42a3f3ac356a"
      },
      "outputs": [
        {
          "output_type": "stream",
          "name": "stdout",
          "text": [
            "38/38 [==============================] - 0s 2ms/step\n",
            "              precision    recall  f1-score   support\n",
            "\n",
            "      Action       0.67      0.15      0.25       198\n",
            "   Adventure       0.76      0.13      0.23       164\n",
            "   Animation       0.37      0.14      0.21        49\n",
            "   Biography       0.45      0.07      0.13        68\n",
            "      Comedy       0.71      0.03      0.05       459\n",
            "       Crime       0.71      0.30      0.42       212\n",
            " Documentary       0.36      0.29      0.32        55\n",
            "       Drama       0.83      0.08      0.15       584\n",
            "      Family       0.53      0.13      0.21       124\n",
            "     Fantasy       0.56      0.08      0.14       110\n",
            "   Film-Noir       0.25      0.06      0.09        35\n",
            "     History       0.28      0.19      0.23        36\n",
            "      Horror       0.63      0.21      0.31       130\n",
            "       Music       0.22      0.03      0.05        64\n",
            "     Musical       0.17      0.03      0.04        39\n",
            "     Mystery       0.49      0.18      0.26       105\n",
            "     Romance       0.77      0.19      0.30       291\n",
            "      Sci-Fi       0.68      0.19      0.29       124\n",
            "       Short       0.00      0.00      0.00        14\n",
            "       Sport       0.62      0.31      0.41        42\n",
            "    Thriller       0.66      0.16      0.26       300\n",
            "         War       0.55      0.52      0.53        52\n",
            "     Western       0.58      0.15      0.24        46\n",
            "\n",
            "   micro avg       0.60      0.14      0.23      3301\n",
            "   macro avg       0.52      0.16      0.22      3301\n",
            "weighted avg       0.66      0.14      0.21      3301\n",
            " samples avg       0.25      0.14      0.17      3301\n",
            "\n"
          ]
        },
        {
          "output_type": "stream",
          "name": "stderr",
          "text": [
            "/usr/local/lib/python3.10/dist-packages/sklearn/metrics/_classification.py:1344: UndefinedMetricWarning: Precision and F-score are ill-defined and being set to 0.0 in samples with no predicted labels. Use `zero_division` parameter to control this behavior.\n",
            "  _warn_prf(average, modifier, msg_start, len(result))\n"
          ]
        }
      ],
      "source": [
        "from sklearn.metrics import classification_report\n",
        "predictions = cnn.predict(X_test)\n",
        "generos=['Action', 'Adventure', 'Animation', 'Biography', 'Comedy', 'Crime',\n",
        "       'Documentary', 'Drama', 'Family', 'Fantasy', 'Film-Noir',\n",
        "       'History', 'Horror', 'Music', 'Musical', 'Mystery', 'Romance',\n",
        "       'Sci-Fi', 'Short', 'Sport', 'Thriller', 'War', 'Western']\n",
        "print(classification_report(y_test,(predictions > 0.5),target_names=generos))"
      ]
    }
  ],
  "metadata": {
    "accelerator": "GPU",
    "colab": {
      "gpuType": "T4",
      "machine_shape": "hm",
      "provenance": []
    },
    "kernelspec": {
      "display_name": "Python 3",
      "name": "python3"
    },
    "language_info": {
      "codemirror_mode": {
        "name": "ipython",
        "version": 3
      },
      "file_extension": ".py",
      "mimetype": "text/x-python",
      "name": "python",
      "nbconvert_exporter": "python",
      "pygments_lexer": "ipython3",
      "version": "3.7.13"
    }
  },
  "nbformat": 4,
  "nbformat_minor": 0
}